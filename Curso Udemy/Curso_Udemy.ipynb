{
 "cells": [
  {
   "cell_type": "code",
   "execution_count": null,
   "id": "51e7da3f",
   "metadata": {},
   "outputs": [],
   "source": [
    "type('Hola')"
   ]
  },
  {
   "cell_type": "code",
   "execution_count": null,
   "id": "a94683b5",
   "metadata": {},
   "outputs": [],
   "source": [
    "x='Cadenas'\n",
    "dir(x);\n",
    "y='los dos textos por pantalla'"
   ]
  },
  {
   "cell_type": "code",
   "execution_count": null,
   "id": "14ddb853",
   "metadata": {},
   "outputs": [],
   "source": [
    "print(x)\n",
    "print(y)\n",
    "print('una cadena\\tcon tabulador')\n",
    "print('una cadena\\nsepara por linea')"
   ]
  },
  {
   "cell_type": "markdown",
   "id": "a39375a2",
   "metadata": {},
   "source": [
    "# Seccion 2 FORMATEO\n",
    "## El print con f"
   ]
  },
  {
   "cell_type": "code",
   "execution_count": null,
   "id": "bb719209",
   "metadata": {},
   "outputs": [],
   "source": [
    "'{} es el primer valor y {} es el segundo valor. Llego el {}'.format(1,2,'perro')"
   ]
  },
  {
   "cell_type": "markdown",
   "id": "c742cad8",
   "metadata": {},
   "source": [
    "'En este caso alteramos el orden y el {1} aparece primero, luego el {0}'.format('Uno','Dos')"
   ]
  },
  {
   "cell_type": "code",
   "execution_count": null,
   "id": "98b37090",
   "metadata": {},
   "outputs": [],
   "source": [
    "nombre = 'La cartuja de parma'\n",
    "x = .7\n",
    "print(f'El valor de {nombre} es', x)"
   ]
  },
  {
   "cell_type": "code",
   "execution_count": null,
   "id": "669d1b85",
   "metadata": {},
   "outputs": [],
   "source": [
    "print(f'El valor de {nombre.title()}\\n es', x, 'Dolares por papel')"
   ]
  },
  {
   "cell_type": "code",
   "execution_count": null,
   "id": "ccefa123",
   "metadata": {},
   "outputs": [],
   "source": [
    "diccionario = {\n",
    "    'uno': x,\n",
    "    'dos': x.__add__(10)\n",
    "}"
   ]
  },
  {
   "cell_type": "code",
   "execution_count": null,
   "id": "71b0188b",
   "metadata": {},
   "outputs": [],
   "source": [
    "print(f'{nombre.title()} cuesta {diccionario[\"uno\"]} pesos \\n y el otro libro {diccionario[\"dos\"]} pesos')"
   ]
  },
  {
   "cell_type": "markdown",
   "id": "7d2fb98d",
   "metadata": {},
   "source": [
    "final de la clase"
   ]
  },
  {
   "cell_type": "markdown",
   "id": "e9ad0c05",
   "metadata": {},
   "source": [
    "# EJERCICIOS 1"
   ]
  },
  {
   "cell_type": "code",
   "execution_count": null,
   "id": "bdb36d15",
   "metadata": {},
   "outputs": [],
   "source": [
    "edad = 31\n",
    "print(edad)"
   ]
  },
  {
   "cell_type": "code",
   "execution_count": null,
   "id": "7335503f",
   "metadata": {},
   "outputs": [],
   "source": [
    "edad_cadena = str(edad)\n",
    "edad_cadena"
   ]
  },
  {
   "cell_type": "code",
   "execution_count": null,
   "id": "7dc1e33a",
   "metadata": {},
   "outputs": [],
   "source": [
    "print(type(edad_cadena))"
   ]
  },
  {
   "cell_type": "code",
   "execution_count": null,
   "id": "3686ec30",
   "metadata": {},
   "outputs": [],
   "source": [
    "edad_2035 = (2035-2021) + edad\n",
    "print(edad_2035)"
   ]
  },
  {
   "cell_type": "code",
   "execution_count": null,
   "id": "f906bf43",
   "metadata": {},
   "outputs": [],
   "source": [
    "cadena = '01 ,azebaC ellehciM'\n",
    "cadena_invertida = cadena[::-1]"
   ]
  },
  {
   "cell_type": "code",
   "execution_count": null,
   "id": "a9f41b68",
   "metadata": {},
   "outputs": [],
   "source": [
    "print('{} ha sacado un {}'.format(cadena_invertida[:-4:],cadena_invertida[-2:]))"
   ]
  },
  {
   "cell_type": "markdown",
   "id": "79de35e3",
   "metadata": {},
   "source": [
    "# EJERCICIO 2"
   ]
  },
  {
   "cell_type": "markdown",
   "id": "16cc7494",
   "metadata": {},
   "source": [
    "3) Utilizando operadores lógicos determinar si uan cadena de texto introducida por el usuario tiene una longitud mayor o igual a 3 y menor o igual a 12"
   ]
  },
  {
   "cell_type": "code",
   "execution_count": null,
   "id": "9c8a25ce",
   "metadata": {
    "scrolled": true
   },
   "outputs": [],
   "source": [
    "cadena = input('Introduzca una cadena: ')\n",
    "long_cadena = len(cadena)\n",
    "prueba1 = long_cadena >= 3\n",
    "prueba2 = long_cadena <= 12\n",
    "print('La longitud de la cadena es mayor o igual que 3 y menor o igual que 12? \\n',prueba1 and prueba2)"
   ]
  },
  {
   "cell_type": "markdown",
   "id": "c1531e5b",
   "metadata": {},
   "source": [
    "**4) Realizar un programa que lea 2 números por teclado y determine los siguientes aspectos (es suficiente con mostrar True or False)**\\n\n",
    "    - Si los dos numeros son iguales\n",
    "    - si los dos numeros son diferentes\n",
    "    - si el primero es mayor que el segundo\n",
    "    - si el segundo es mayor que el primero"
   ]
  },
  {
   "cell_type": "code",
   "execution_count": null,
   "id": "7ab06845",
   "metadata": {},
   "outputs": [],
   "source": [
    "primer = int(input('Ingrese primer numero: '))\n",
    "segundo = int(input('Ingrese segundo numero: '))\n",
    "print('Los numeros son iguales? {},\\nLos numeros son diferentes? {},\\nEl primero es mayor? {},\\nEl segundo es mayor? {}'.format(primer==segundo, primer!=segundo, primer>segundo, primer<segundo))"
   ]
  },
  {
   "cell_type": "markdown",
   "id": "5d9e273f",
   "metadata": {},
   "source": [
    "# SECCION 3 Listas, tuplas"
   ]
  },
  {
   "cell_type": "code",
   "execution_count": null,
   "id": "4a051c3e",
   "metadata": {},
   "outputs": [],
   "source": [
    "tupla = 'Lunes', 'Martes', 'Miercoles'\n",
    "tupla_multi = [1,2,3],'a',71.4 , tupla,'a'"
   ]
  },
  {
   "cell_type": "code",
   "execution_count": null,
   "id": "9ab00fba",
   "metadata": {},
   "outputs": [],
   "source": [
    "tupla_multi"
   ]
  },
  {
   "cell_type": "code",
   "execution_count": null,
   "id": "c609a3be",
   "metadata": {},
   "outputs": [],
   "source": [
    "tupla_multi[1]"
   ]
  },
  {
   "cell_type": "code",
   "execution_count": null,
   "id": "5deef326",
   "metadata": {},
   "outputs": [],
   "source": [
    "tupla_multi.index('a')"
   ]
  },
  {
   "cell_type": "code",
   "execution_count": null,
   "id": "87b857d2",
   "metadata": {},
   "outputs": [],
   "source": [
    "tupla_multi.count('a')"
   ]
  },
  {
   "cell_type": "markdown",
   "id": "b09db727",
   "metadata": {},
   "source": [
    "### CONJUNTOS"
   ]
  },
  {
   "cell_type": "markdown",
   "id": "94cd34dc",
   "metadata": {},
   "source": [
    "Los conjuntos son colecciones de datos que nos facilitan ciertas operaciones ya que solo contienen valores unicos.\n",
    "Se diferencian de las tuplas y listas en que:\n",
    "    - cada elemento dentro del conjunto es unico\n",
    "    - sus elementos no estan ordenados"
   ]
  },
  {
   "cell_type": "code",
   "execution_count": null,
   "id": "02303970",
   "metadata": {},
   "outputs": [],
   "source": [
    "conjunto_vacio = set()\n",
    "conjunto = {1, 2, 3}"
   ]
  },
  {
   "cell_type": "code",
   "execution_count": null,
   "id": "b26f9d16",
   "metadata": {},
   "outputs": [],
   "source": [
    "print(type(conjunto_vacio),type(conjunto))"
   ]
  },
  {
   "cell_type": "code",
   "execution_count": null,
   "id": "cbb36ffd",
   "metadata": {},
   "outputs": [],
   "source": [
    "conjunto.add(4)\n",
    "conjunto.add(5)\n",
    "conjunto.add('C')\n",
    "conjunto.add('A')\n",
    "conjunto.add('P')\n",
    "conjunto"
   ]
  },
  {
   "cell_type": "code",
   "execution_count": null,
   "id": "3aa9e847",
   "metadata": {},
   "outputs": [],
   "source": [
    "conjunto.add('C')\n",
    "conjunto"
   ]
  },
  {
   "cell_type": "markdown",
   "id": "cdb20116",
   "metadata": {},
   "source": [
    "## podemos utilizar lso conjuntos para verificar pertenencia"
   ]
  },
  {
   "cell_type": "code",
   "execution_count": null,
   "id": "caa98d00",
   "metadata": {},
   "outputs": [],
   "source": [
    "grupo = {'Lluis', 'Giulia', 'Victor', 'Aaron', 'Johel'}\n",
    "'Victor' in grupo"
   ]
  },
  {
   "cell_type": "code",
   "execution_count": null,
   "id": "1f200994",
   "metadata": {},
   "outputs": [],
   "source": [
    "'Johel' not in grupo"
   ]
  },
  {
   "cell_type": "markdown",
   "id": "4a918115",
   "metadata": {},
   "source": [
    "Un conjunto elimina automaticamente los elementos duplicados"
   ]
  },
  {
   "cell_type": "code",
   "execution_count": null,
   "id": "ddcbad0e",
   "metadata": {},
   "outputs": [],
   "source": [
    "grupo_carros = {'Toyota', 'Toyota', 'Ford'}\n",
    "grupo_carros"
   ]
  },
  {
   "cell_type": "code",
   "execution_count": null,
   "id": "fd029f08",
   "metadata": {},
   "outputs": [],
   "source": [
    "extra = [1, 1, 2, 2, 3, 3, 4, 5, 5, 4, 4, 5, 6]\n",
    "print(extra)"
   ]
  },
  {
   "cell_type": "code",
   "execution_count": null,
   "id": "d7e3f911",
   "metadata": {},
   "outputs": [],
   "source": [
    "c = set(extra)\n",
    "print(c)"
   ]
  },
  {
   "cell_type": "code",
   "execution_count": null,
   "id": "30a3c255",
   "metadata": {},
   "outputs": [],
   "source": [
    "sin_duplicados = list(c)\n",
    "print(sin_duplicados)"
   ]
  },
  {
   "cell_type": "markdown",
   "id": "f7875a72",
   "metadata": {},
   "source": [
    "***Podemos hacer eso en una sola linea***"
   ]
  },
  {
   "cell_type": "code",
   "execution_count": null,
   "id": "8d047a9f",
   "metadata": {},
   "outputs": [],
   "source": [
    "no_dupli = list(set(extra))\n",
    "print(no_dupli)"
   ]
  },
  {
   "cell_type": "markdown",
   "id": "a6bb7af9",
   "metadata": {},
   "source": [
    "***cuando aplicamos la conversion a una cadena, el conjunto resultante incluye solo las letras unicas de estas***"
   ]
  },
  {
   "cell_type": "code",
   "execution_count": null,
   "id": "cf8dda98",
   "metadata": {},
   "outputs": [],
   "source": [
    "cadena = 'Jefe de jefe, patron de patron. Recogelo, recogelo'\n",
    "\n",
    "set(cadena)"
   ]
  },
  {
   "cell_type": "markdown",
   "id": "62987b37",
   "metadata": {},
   "source": [
    "#  DICCIONARIOS"
   ]
  },
  {
   "cell_type": "markdown",
   "id": "564e058b",
   "metadata": {},
   "source": [
    "Son colecciones de datos semejantes a las listas.\n",
    "\n",
    "Los diccionarios se caracterizan por:\n",
    "    - Se define cada elemento dentro de un diccionario como una relacion _Clave: Valor_\n",
    "    - Las claves ejercen como indices de cada elementos (no son unicamente numeros)"
   ]
  },
  {
   "cell_type": "code",
   "execution_count": null,
   "id": "0dbcb8e1",
   "metadata": {},
   "outputs": [],
   "source": [
    "colores = {'azul': 'Blue', 'negro': 'Black', 'rosado': 'Pink'}\n",
    "\n",
    "propiedades = {\n",
    "    1: 'Nombre',\n",
    "    2: 'Apellido',\n",
    "    3: 'Profesion',\n",
    "    4: 'Region'\n",
    "}\n"
   ]
  },
  {
   "cell_type": "code",
   "execution_count": null,
   "id": "2500a7dd",
   "metadata": {},
   "outputs": [],
   "source": [
    "print(propiedades)"
   ]
  },
  {
   "cell_type": "markdown",
   "id": "316ad9f8",
   "metadata": {},
   "source": [
    "***Podemos escoger entre sus elementos utilizando sus claves***"
   ]
  },
  {
   "cell_type": "code",
   "execution_count": null,
   "id": "fda7262f",
   "metadata": {},
   "outputs": [],
   "source": [
    "colores['azul']"
   ]
  },
  {
   "cell_type": "code",
   "execution_count": null,
   "id": "c5455afd",
   "metadata": {},
   "outputs": [],
   "source": [
    "colores['negro']"
   ]
  },
  {
   "cell_type": "markdown",
   "id": "35119e96",
   "metadata": {},
   "source": [
    "***Tambien podemos modificar los valores de sus elementos utilizando operaciones con ellos***"
   ]
  },
  {
   "cell_type": "code",
   "execution_count": null,
   "id": "bac48bfa",
   "metadata": {},
   "outputs": [],
   "source": [
    "colores['negro'] = 'noir'\n",
    "print(colores)"
   ]
  },
  {
   "cell_type": "code",
   "execution_count": null,
   "id": "f088b84b",
   "metadata": {},
   "outputs": [],
   "source": [
    "colores['anaranjado'] = 'Orange'\n",
    "colores['Blanco'] = 'white'\n",
    "colores"
   ]
  },
  {
   "cell_type": "code",
   "execution_count": null,
   "id": "b794d604",
   "metadata": {},
   "outputs": [],
   "source": [
    "edades = {\n",
    "    'Albert': 24,\n",
    "    'Johel': 24,\n",
    "    'Roque': 26,\n",
    "    'Victor': 27\n",
    "}\n",
    "edades['Roque']"
   ]
  },
  {
   "cell_type": "code",
   "execution_count": null,
   "id": "738befa9",
   "metadata": {},
   "outputs": [],
   "source": [
    "edades['Johel'] += 1\n",
    "edades"
   ]
  },
  {
   "cell_type": "code",
   "execution_count": null,
   "id": "b80ef253",
   "metadata": {},
   "outputs": [],
   "source": [
    "edades['Albert']+edades['Victor']"
   ]
  },
  {
   "cell_type": "markdown",
   "id": "bd1f7525",
   "metadata": {},
   "source": [
    "## METODOS CON DICCIONARIOS"
   ]
  },
  {
   "cell_type": "markdown",
   "id": "a6a365f4",
   "metadata": {},
   "source": [
    "A Traves de un bucle for podemos reccorer los elementos de un diccionario"
   ]
  },
  {
   "cell_type": "code",
   "execution_count": null,
   "id": "cfc5f094",
   "metadata": {},
   "outputs": [],
   "source": [
    "for c in edades:\n",
    "    print(c)"
   ]
  },
  {
   "cell_type": "code",
   "execution_count": null,
   "id": "cd3e155a",
   "metadata": {},
   "outputs": [],
   "source": [
    "for c in edades:\n",
    "    print(edades[c])"
   ]
  },
  {
   "cell_type": "markdown",
   "id": "acf34676",
   "metadata": {},
   "source": [
    "El metodo ***items()*** nos devuelve Clave y Valor automaticamente"
   ]
  },
  {
   "cell_type": "code",
   "execution_count": null,
   "id": "799dd453",
   "metadata": {},
   "outputs": [],
   "source": [
    "for c,v in edades.items():\n",
    "    print(c,v)"
   ]
  },
  {
   "cell_type": "markdown",
   "id": "17785ca8",
   "metadata": {},
   "source": [
    "El metodo ***del()*** nos permite eliminar los valores de un diccionario"
   ]
  },
  {
   "cell_type": "code",
   "execution_count": null,
   "id": "551978a9",
   "metadata": {},
   "outputs": [],
   "source": [
    "del(colores['azul'])\n",
    "colores"
   ]
  },
  {
   "cell_type": "markdown",
   "id": "58063065",
   "metadata": {},
   "source": [
    "Debemos combinar provechasemente las listas y los diccionarios. Por ejemplo para crear un equipo de personajes"
   ]
  },
  {
   "cell_type": "code",
   "execution_count": null,
   "id": "8642ac02",
   "metadata": {},
   "outputs": [],
   "source": [
    "equipo = []\n",
    "\n",
    "personajes = {\n",
    "    'nombre': 'Raskolnikov',\n",
    "    'clase': 'Picaro',\n",
    "    'nacion': 'Rusia'\n",
    "}"
   ]
  },
  {
   "cell_type": "code",
   "execution_count": null,
   "id": "3ea6a150",
   "metadata": {},
   "outputs": [],
   "source": [
    "equipo.append(personajes)\n",
    "print(equipo)"
   ]
  },
  {
   "cell_type": "code",
   "execution_count": null,
   "id": "7b5fd841",
   "metadata": {},
   "outputs": [],
   "source": [
    "personajes = {\n",
    "    'nombre': 'Emma',\n",
    "    'clase': 'curandera',\n",
    "    'nacion': 'Francia'\n",
    "}\n",
    "equipo.append(personajes)"
   ]
  },
  {
   "cell_type": "code",
   "execution_count": null,
   "id": "cc87efbe",
   "metadata": {},
   "outputs": [],
   "source": [
    "personajes = {\n",
    "    'nombre': 'Rebeca',\n",
    "    'clase': 'Banquera',\n",
    "    'nacion': 'Inglaterra'\n",
    "}\n",
    "\n",
    "equipo.append(personajes)\n",
    "equipo"
   ]
  },
  {
   "cell_type": "code",
   "execution_count": null,
   "id": "e3940631",
   "metadata": {},
   "outputs": [],
   "source": [
    "for e in equipo:\n",
    "    print(e['nombre'], ',', e['clase'], 'oriundo de', e['nacion'])"
   ]
  },
  {
   "cell_type": "markdown",
   "id": "787ab1fc",
   "metadata": {},
   "source": [
    "# EJERCICIOS"
   ]
  },
  {
   "cell_type": "markdown",
   "id": "d9028f58",
   "metadata": {},
   "source": [
    "## 1) ¿Puedes identificar el error en el siguiente codigo?\n",
    "\n",
    "    media = num_1 + num_2 + num_3 / 3"
   ]
  },
  {
   "cell_type": "code",
   "execution_count": null,
   "id": "ff0bae19",
   "metadata": {},
   "outputs": [],
   "source": [
    "num_1 = 4\n",
    "num_2 = 3\n",
    "num_3 = 3\n",
    "\n",
    "media = (num_1 + num_2 + num_3) / 3\n",
    "\n",
    "print('El promedio es ',media)"
   ]
  },
  {
   "cell_type": "markdown",
   "id": "33c459ad",
   "metadata": {},
   "source": [
    "***2) En la siguiente matriz, el cuarto eleemtno siempre es la suma de los 3 anteiores. Utilizando la indexacion corrige las listas que no cumplan con esta condicion***"
   ]
  },
  {
   "cell_type": "code",
   "execution_count": null,
   "id": "70e1e29f",
   "metadata": {},
   "outputs": [],
   "source": [
    "matriz = [\n",
    "    [1,1,1,3],\n",
    "    [2,2,2,7],\n",
    "    [3,3,3,9],\n",
    "    [4,4,4,13]\n",
    "];\n",
    "\n",
    "matriz[1][3] = sum(matriz[1][:-1])\n",
    "matriz[-1][3] = 12\n",
    "matriz"
   ]
  },
  {
   "cell_type": "markdown",
   "id": "4213cb77",
   "metadata": {},
   "source": [
    "### 3) En el desarrollo de un videojuego se te encarga configurar y balancear cada clase de personaje. Partiendo de que la estdistica base es 2, debes cumplir las siguientes condiciones:\n",
    "    - el caballero tiene el doble de la vida y defensa que un guerrero\n",
    "    - el guerrero tiene el doble de ataque y alcance que un caballero\n",
    "    - el arquero tiene la mims vida y ataque que un guerrero, pero la mitad de su defensa y el doble de su alcance\n",
    "    - muestra como quedan las propiedaeds de los 3 personajes\n",
    "    \n",
    "    caballero = {'vida': 2, 'defensa': 2, 'ataque': 2, 'alcance': 2}\n",
    "    guerrero = {'vida': 1, defensa': 1, 'ataque': 4, 'alcance': 4}\n",
    "    arquero = {'vida': 1,'defensa': 0.5,'ataque': 4,'alcance': 8}"
   ]
  },
  {
   "cell_type": "code",
   "execution_count": null,
   "id": "8cca32bc",
   "metadata": {},
   "outputs": [],
   "source": [
    "caballero = {'vida': 2, 'defensa': 2, 'ataque': 2, 'alcance': 2}\n",
    "guerrero = {'vida': 2, 'defensa': 2, 'ataque': 2, 'alcance': 2}\n",
    "arquero = {'vida': 2,'defensa': 2,'ataque': 2,'alcance': 2}"
   ]
  },
  {
   "cell_type": "code",
   "execution_count": null,
   "id": "6dadd599",
   "metadata": {},
   "outputs": [],
   "source": [
    "guerrero['ataque'] = caballero['ataque'] *2\n",
    "guerrero['alcance'] = caballero['alcance'] *2"
   ]
  },
  {
   "cell_type": "code",
   "execution_count": null,
   "id": "984d1da8",
   "metadata": {},
   "outputs": [],
   "source": [
    "arquero['vida'] = guerrero['vida']\n",
    "arquero['ataque'] = guerrero['ataque']\n",
    "arquero['defensa'] = guerrero['defensa'] /2\n",
    "arquero['alcance'] = guerrero['alcance'] *2"
   ]
  },
  {
   "cell_type": "code",
   "execution_count": null,
   "id": "92648ad0",
   "metadata": {},
   "outputs": [],
   "source": [
    "caballero['vida'] = guerrero['vida'] *2\n",
    "caballero['defensa'] = guerrero['defensa'] *2"
   ]
  },
  {
   "cell_type": "code",
   "execution_count": null,
   "id": "a281754d",
   "metadata": {},
   "outputs": [],
   "source": [
    "caballero,guerrero,arquero"
   ]
  },
  {
   "cell_type": "markdown",
   "id": "90bf64ba",
   "metadata": {},
   "source": [
    "# SECCION 4 IF ELSE ELIF"
   ]
  },
  {
   "cell_type": "markdown",
   "id": "3651cc06",
   "metadata": {},
   "source": [
    "## FOR(each y rangos, ennumerate)\n"
   ]
  },
  {
   "cell_type": "code",
   "execution_count": null,
   "id": "5ea71fd1",
   "metadata": {},
   "outputs": [],
   "source": [
    "numeros = list(range(1,11))\n",
    "indice = 0\n",
    "while(indice < len(numeros)):\n",
    "    print(numeros[indice])\n",
    "    indice += 1"
   ]
  },
  {
   "cell_type": "code",
   "execution_count": null,
   "id": "45ec0eff",
   "metadata": {},
   "outputs": [],
   "source": []
  },
  {
   "cell_type": "code",
   "execution_count": null,
   "id": "b1496d3e",
   "metadata": {},
   "outputs": [],
   "source": [
    "numeros = list(range(11))\n",
    "indice = 0\n",
    "\n",
    "for numero in numeros:\n",
    "    numeros[indice] *= 10\n",
    "    indice += 1\n",
    "numeros"
   ]
  },
  {
   "cell_type": "markdown",
   "id": "4bb97bc4",
   "metadata": {},
   "source": [
    "## enumerate()"
   ]
  },
  {
   "cell_type": "code",
   "execution_count": null,
   "id": "593c668a",
   "metadata": {},
   "outputs": [],
   "source": [
    "numeros = [0,1,2,3,4,5,60,7,8,9,10]\n",
    "\n",
    "for indice,numero in enumerate(numeros):\n",
    "    numeros[indice] *= 10\n",
    "    print('el indice es {} y el numero es {}'.format(indice,numero))\n"
   ]
  },
  {
   "cell_type": "code",
   "execution_count": null,
   "id": "df5ea99c",
   "metadata": {},
   "outputs": [],
   "source": [
    "cad = 'Hola, mi gente'\n",
    "cad_2 = ''\n",
    "\n",
    "for caracter in cad:\n",
    "    cad_2 += '*'\n",
    "\n",
    "print(cad,'\\n',cad_2)"
   ]
  },
  {
   "cell_type": "markdown",
   "id": "e31460a3",
   "metadata": {},
   "source": [
    "# EJERCICIOS 4.4\n",
    "## 1) Realiza un programa que lea dos numeros por teclado y permita elegir entre 3 opciones en un menu:\n",
    "    - Mostrar la suma de dos numeros\n",
    "    - mostrar la resto de dos numeros (el primero menos el segundo)\n",
    "    - mostrar la multiplicacion de dos numeros\n",
    "## Si ingresamos una opcion no valida, el programa informa que es incorrecto"
   ]
  },
  {
   "cell_type": "code",
   "execution_count": null,
   "id": "4ac4d582",
   "metadata": {},
   "outputs": [],
   "source": [
    "num_1 = float(input('Ingrese primer número: '))\n",
    "num_2 = float(input('Ingrese segundo número: '))\n",
    "menu = \"\"\"Elja una opcion:\n",
    "    1) Sumar dos numeros\n",
    "    2) Restar al segundo, el primero\n",
    "    3) Multiplicar dos numeros\n",
    ">>> \"\"\"\n",
    "opcion = input(menu)\n",
    "if opcion == '1':\n",
    "    print('El valor de la suma es {}'.format(num_1+num_2))\n",
    "elif opcion == '2':\n",
    "    print('El valor de la resta es {}'.format(num_1-num_2))\n",
    "elif opcion == '3':\n",
    "    print('El valor del producto es {}'.format(num_1*num_2))\n",
    "else:\n",
    "    print('La opcion \"{}\" no es valida, vuelva a intentarlo'.format(opcion))"
   ]
  },
  {
   "cell_type": "markdown",
   "id": "0b816893",
   "metadata": {},
   "source": [
    "## 2) Dada una lista de str, haga un programa que\n",
    "    - el numero de str's que tienen una longitud de 2 o mas y cuyo primer y ulto caracter son iguales\n",
    "    - una lista nueva con solo estos str"
   ]
  },
  {
   "cell_type": "code",
   "execution_count": null,
   "id": "ebf4de5a",
   "metadata": {},
   "outputs": [],
   "source": [
    "lista = ['avila','cafe','este','narracion','buda','extra','salida']\n",
    "\n",
    "lista2 = []\n",
    "suma = 0\n",
    "for item in lista:\n",
    "    if len(item) > 2 and item[0] == item[-1]:\n",
    "        suma += 1\n",
    "        lista2.append(item)\n",
    "suma, lista2"
   ]
  },
  {
   "cell_type": "markdown",
   "id": "e3ed19d3",
   "metadata": {},
   "source": [
    "## 3) Realiza un programa que pida un numero impar. Si el usuario no ingresa un numero impar debe repetirse el proceso hasta que ingrese un valor valido."
   ]
  },
  {
   "cell_type": "code",
   "execution_count": null,
   "id": "5da25595",
   "metadata": {},
   "outputs": [],
   "source": [
    "while True:\n",
    "    impar = int(input('Ingrese numero impar: '))\n",
    "    if not impar % 2 == 0:\n",
    "        print('El numero es impar')\n",
    "        break\n",
    "    else:\n",
    "        print('El numero no es impar, vuelva a intentarlo')"
   ]
  },
  {
   "cell_type": "markdown",
   "id": "cb15c1db",
   "metadata": {},
   "source": [
    "## 4) Realiza un programa que sume todos los numeros enteros pares desde el 0 hasta el 100\n",
    "PROTIP: Utilizar funciones ***sum() range()***. El tercer parametro por range(inicio, fin, salto) indica el incremento de valores del rango"
   ]
  },
  {
   "cell_type": "code",
   "execution_count": null,
   "id": "bdc1f16f",
   "metadata": {},
   "outputs": [],
   "source": [
    "num_par = list(range(2,101,2))\n",
    "suma = sum(num_par)\n",
    "print(suma)"
   ]
  },
  {
   "cell_type": "markdown",
   "id": "87d52fef",
   "metadata": {},
   "source": [
    "## 5) Realiza n programa qu pregunta al usuario cuantos numero quiere introducir. Luego debe ller todos los numeros y obtener la media aritmetica"
   ]
  },
  {
   "cell_type": "code",
   "execution_count": null,
   "id": "7451fbce",
   "metadata": {},
   "outputs": [],
   "source": [
    "a = int(input('Cantidad de numeros que va a entrar: '))\n",
    "lista = []\n",
    "for i in range(a):\n",
    "    b = float(input('Ingrese numero {}: '.format(i+1)))\n",
    "    lista.append(b)\n",
    "c = sum(lista)\n",
    "print('La media es: ', c/len(lista))"
   ]
  },
  {
   "cell_type": "markdown",
   "id": "18eeaeaa",
   "metadata": {},
   "source": [
    "## 6) Realiza un programa que pida al usuario un numero entero entre el 0 y el 9 y que mientras el numero no sea correcto se repita el proceso Luego debe comprobar si el numero se encuentra en la lista de numero [0,1,3,5,8]y  notificarlo:"
   ]
  },
  {
   "cell_type": "code",
   "execution_count": null,
   "id": "10d5e3d8",
   "metadata": {},
   "outputs": [],
   "source": [
    "while True:\n",
    "    a = int(input('Ingrese un valor entero entre 0 y 9: '))\n",
    "    if not(a >= 0 and a <= 9): \n",
    "        print('Vuelva a intentarlo')\n",
    "        continue\n",
    "    else:\n",
    "        if a in [0, 1, 3, 5, 8]:\n",
    "            print('El valor está comprendido')\n",
    "            break\n",
    "        else:\n",
    "            print('El valor no está comprendido en la lista')"
   ]
  },
  {
   "cell_type": "markdown",
   "id": "38fa7714",
   "metadata": {},
   "source": [
    "## 7) utilizar la funcion range() y la conversion a lista, genera las siguientes listas dinamicamente:\n",
    "- Todos los numeros del 0 al 10\n",
    "- todos los numeros del -10 al 0\n",
    "- todos los numeros pares entre el 0 al 20\n",
    "- todos los numeros impares entre el -20 al 0\n",
    "- todos los numeros multiplos de 5 del 0 al 50"
   ]
  },
  {
   "cell_type": "code",
   "execution_count": null,
   "id": "fbbda1cb",
   "metadata": {},
   "outputs": [],
   "source": [
    "a = list(range(11))\n",
    "b = list(range(-10,1))\n",
    "c = list(range(0,21,2))\n",
    "d = list(range(-19,1,2))\n",
    "e = list(range(5,51,5))\n",
    "print(a,'\\n',b,'\\n',c,'\\n',d,'\\n',e)"
   ]
  },
  {
   "cell_type": "markdown",
   "id": "59a3dbc6",
   "metadata": {},
   "source": [
    "## 8) Dadas dos listas, se debe generar un tercera lista con todos los elementos que se repitan en ellas, pero no debe repetir ningun elemento en la nueva lista"
   ]
  },
  {
   "cell_type": "code",
   "execution_count": null,
   "id": "d4734f7d",
   "metadata": {},
   "outputs": [],
   "source": [
    "lista_1 = ['a','b','c','d','e','e']\n",
    "lista_2 = ['c','c','d','e','e']\n",
    "lista_3 = []\n",
    "for elemento_1 in lista_1:\n",
    "    for elemento_2 in lista_2:\n",
    "        if elemento_1 == elemento_2:\n",
    "            elemento_3 = elemento_2\n",
    "            if elemento_3 not in lista_3:\n",
    "                lista_3.append(elemento_3)\n",
    "lista_3"
   ]
  },
  {
   "cell_type": "code",
   "execution_count": null,
   "id": "6dacb8d7",
   "metadata": {},
   "outputs": [],
   "source": [
    "lista_1 = ['a','b','c','d','e','e']\n",
    "lista_2 = ['c','c','d','e','e']\n",
    "lista_3 = []\n",
    "for elemento in lista_1:\n",
    "    if elemento in lista_2 and elemento not in lista_3:\n",
    "        lista_3.append(elemento)\n",
    "lista_3"
   ]
  },
  {
   "cell_type": "markdown",
   "id": "79b03f5a",
   "metadata": {},
   "source": [
    "# SECCION 5: FUNCIONES\n",
    "## IMPORTANTE:\n",
    "\n",
    "***funciones \\*args y \\*\\*kwargs***\n",
    "\n",
    "***funciones recursivas*** (factorial)\n"
   ]
  },
  {
   "cell_type": "code",
   "execution_count": null,
   "id": "1dfc1cf1",
   "metadata": {},
   "outputs": [],
   "source": [
    "#Duplicar listas:\n",
    "def duplicar_seq(lista):\n",
    "    for i,n in enumerate(lista):\n",
    "        lista[i] *= 2\n",
    "    return lista\n",
    "\n",
    "notas_a = list(range(6)) # original\n",
    "notas_b = duplicar_seq(notas_a) # referencia\n",
    "notas_c = duplicar_seq(notas_a[:]) # copia\n",
    "\n",
    "notas_a, notas_b, notas_c"
   ]
  },
  {
   "cell_type": "code",
   "execution_count": null,
   "id": "69247350",
   "metadata": {},
   "outputs": [],
   "source": [
    "# Argumentos indeterminados\n",
    "def argumentar(*args):\n",
    "    print(args)\n",
    "\n",
    "argumentar(4,'Johel Yun', [0, 1, 2, 3])"
   ]
  },
  {
   "cell_type": "code",
   "execution_count": null,
   "id": "05ac9af2",
   "metadata": {},
   "outputs": [],
   "source": [
    "# Argumentos indeterminados\n",
    "def argumentar(*args):\n",
    "    for elemento in args:\n",
    "        print(elemento)\n",
    "\n",
    "argumentar(4,'Johel Yun', [0, 1, 2, 3])"
   ]
  },
  {
   "cell_type": "code",
   "execution_count": null,
   "id": "35d5518d",
   "metadata": {},
   "outputs": [],
   "source": [
    "def nombrar(**kwargs):#keyword args\n",
    "    print(kwargs)\n",
    "\n",
    "nombrar(id = 5, nombre = 'Felix el gato', notas = [6, 7, 8, 9])"
   ]
  },
  {
   "cell_type": "code",
   "execution_count": null,
   "id": "25c4a6b1",
   "metadata": {},
   "outputs": [],
   "source": [
    "def nombrar(**kwargs):#keyword args\n",
    "    for kwarg in kwargs:\n",
    "        print(kwarg)\n",
    "\n",
    "nombrar(id = 5, nombre = 'Felix el gato', notas = [6, 7, 8, 9])"
   ]
  },
  {
   "cell_type": "code",
   "execution_count": null,
   "id": "d0a513ab",
   "metadata": {},
   "outputs": [],
   "source": [
    "def nombrar(**kwargs):#keyword args\n",
    "    for clave in kwargs:\n",
    "        print(clave,' ',kwargs[clave])\n",
    "\n",
    "nombrar(id = 5, nombre = 'Felix el gato', notas = [6, 7, 8, 9])"
   ]
  },
  {
   "cell_type": "code",
   "execution_count": null,
   "id": "8a4e3e99",
   "metadata": {},
   "outputs": [],
   "source": [
    "def super_nominacion(*args, **kwargs):\n",
    "    suma = 0\n",
    "    for e in args:\n",
    "        suma += e\n",
    "    print('El promedio indeterminado es {}'.format(suma/len(args)))\n",
    "    for clave in kwargs:\n",
    "        print(clave, '\\t', kwargs[clave])\n",
    "            \n",
    "super_nominacion(10, 20, 30, 40, id = 6, nombre = 'Victor Santaolalla', edad = 27, notas = [10, 20, 30])"
   ]
  },
  {
   "cell_type": "markdown",
   "id": "f83a7d73",
   "metadata": {},
   "source": [
    "***FUNCIONES RECURSIVAS***\n",
    "La funcion se llama a sí misma"
   ]
  },
  {
   "cell_type": "code",
   "execution_count": null,
   "id": "1e359ea0",
   "metadata": {},
   "outputs": [],
   "source": [
    "def cuenta_atras(num):\n",
    "    num -= 1\n",
    "    if num > 0:\n",
    "        print(num)\n",
    "        cuenta_atras(num)\n",
    "    else:\n",
    "        print(num,'boom')\n",
    "    print('Fin de la funcion')\n",
    "\n",
    "cuenta_atras(5)\n",
    "# Luego tiene que cerrar cada unas de las funciones previas arrancadas"
   ]
  },
  {
   "cell_type": "code",
   "execution_count": null,
   "id": "e944b5cd",
   "metadata": {},
   "outputs": [],
   "source": [
    "def factorial(num):\n",
    "    print('Valor inicial --->',num)\n",
    "    if num > 1:\n",
    "        num = num * factorial(num-1)\n",
    "    print('Valor final --->',num)\n",
    "    return num\n",
    "\n",
    "factorial(5)"
   ]
  },
  {
   "cell_type": "markdown",
   "id": "af0e090a",
   "metadata": {},
   "source": [
    "***FUNCIONES INTEGRADAS***"
   ]
  },
  {
   "cell_type": "markdown",
   "id": "79906265",
   "metadata": {},
   "source": [
    "int(), bin(), hex(), abs(), round(), pow()"
   ]
  },
  {
   "cell_type": "markdown",
   "id": "f00fb98b",
   "metadata": {},
   "source": [
    ".split(), .upper(), .lower(), .title()\n"
   ]
  },
  {
   "cell_type": "markdown",
   "id": "4bb70bf0",
   "metadata": {},
   "source": [
    "sort(): ordena la lista"
   ]
  },
  {
   "cell_type": "code",
   "execution_count": null,
   "id": "25319404",
   "metadata": {},
   "outputs": [],
   "source": [
    "'Para separar una cadena'.split()"
   ]
  },
  {
   "cell_type": "code",
   "execution_count": null,
   "id": "2e077531",
   "metadata": {},
   "outputs": [],
   "source": [
    "a = ['Para','separar','una','cadena']\n",
    "' '.join(a)"
   ]
  },
  {
   "cell_type": "code",
   "execution_count": null,
   "id": "9a4617ea",
   "metadata": {},
   "outputs": [],
   "source": [
    "a, b, c, d = zip(['A', 'B', 'C', 'D'], [10, 20, 30, 40])\n",
    "a, b, c, d"
   ]
  },
  {
   "cell_type": "code",
   "execution_count": null,
   "id": "8267007e",
   "metadata": {},
   "outputs": [],
   "source": [
    "dict(zip(['A', 'B', 'C', 'D'], [10, 20, 30, 40]))"
   ]
  },
  {
   "cell_type": "markdown",
   "id": "ecaa606d",
   "metadata": {},
   "source": [
    "***FUNCIONES LAMBDA***: Funciones anonimas"
   ]
  },
  {
   "cell_type": "code",
   "execution_count": null,
   "id": "ccecb046",
   "metadata": {},
   "outputs": [],
   "source": [
    "def doblar(num):\n",
    "    resultado = num*2\n",
    "    return resultado\n",
    "\n",
    "doblar(10)"
   ]
  },
  {
   "cell_type": "code",
   "execution_count": null,
   "id": "ebbdacd2",
   "metadata": {},
   "outputs": [],
   "source": [
    "def doblar(num):\n",
    "    return num*2\n",
    "\n",
    "doblar(5)"
   ]
  },
  {
   "cell_type": "code",
   "execution_count": null,
   "id": "291cacc0",
   "metadata": {},
   "outputs": [],
   "source": [
    "def doblar(num): return num*2\n",
    "\n",
    "doblar(2)"
   ]
  },
  {
   "cell_type": "code",
   "execution_count": null,
   "id": "8b5c01e2",
   "metadata": {},
   "outputs": [],
   "source": [
    "lambda num: num*2"
   ]
  },
  {
   "cell_type": "code",
   "execution_count": null,
   "id": "85f12eb9",
   "metadata": {},
   "outputs": [],
   "source": [
    "doblar = lambda num: num*2\n",
    "doblar(1)"
   ]
  },
  {
   "cell_type": "code",
   "execution_count": null,
   "id": "e032fa73",
   "metadata": {},
   "outputs": [],
   "source": [
    "impar = lambda num: num% 2 != 0\n",
    "impar(5)"
   ]
  },
  {
   "cell_type": "code",
   "execution_count": null,
   "id": "f52d9cbb",
   "metadata": {},
   "outputs": [],
   "source": [
    "revertir = lambda cadena: cadena[::-1]\n",
    "revertir('Camarada')"
   ]
  },
  {
   "cell_type": "code",
   "execution_count": null,
   "id": "51797c39",
   "metadata": {},
   "outputs": [],
   "source": [
    "sumar = lambda x,y: x + y\n",
    "\n",
    "sumar(1,3)"
   ]
  },
  {
   "cell_type": "markdown",
   "id": "9afb5d88",
   "metadata": {},
   "source": [
    "***FUNCION OPEN***"
   ]
  },
  {
   "cell_type": "code",
   "execution_count": null,
   "id": "55462001",
   "metadata": {},
   "outputs": [],
   "source": [
    "with open(r'C:\\Users\\Agustin\\DiHouse\\curso_udemy.txt','w') as f:\n",
    "    f.write('Escritura en ficheros')\n",
    "    f.write('\\nOtra linea')\n",
    "    f.write(' Y misma linea')\n",
    "    f.close()"
   ]
  },
  {
   "cell_type": "code",
   "execution_count": null,
   "id": "1d85c4fa",
   "metadata": {},
   "outputs": [],
   "source": [
    "with open(r'C:\\Users\\Agustin\\DiHouse\\print.py','r') as f:\n",
    "    print(f.read())\n",
    "    f.close()"
   ]
  },
  {
   "cell_type": "code",
   "execution_count": null,
   "id": "ef8a447e",
   "metadata": {},
   "outputs": [],
   "source": [
    "with open(r'C:\\Users\\Agustin\\DiHouse\\curso_udemy.txt','r') as f:\n",
    "    print(f.read())"
   ]
  },
  {
   "cell_type": "code",
   "execution_count": null,
   "id": "fc611550",
   "metadata": {},
   "outputs": [],
   "source": [
    "with open(r'C:\\Users\\Agustin\\DiHouse\\curso_udemy.txt','r') as f:\n",
    "    data = f.readline()\n",
    "    print(data)"
   ]
  },
  {
   "cell_type": "code",
   "execution_count": null,
   "id": "6f914db8",
   "metadata": {},
   "outputs": [],
   "source": [
    "with open(r'C:\\Users\\Agustin\\DiHouse\\curso_udemy.txt','r') as f:\n",
    "    data = f.readlines()\n",
    "    print(data)"
   ]
  },
  {
   "cell_type": "code",
   "execution_count": null,
   "id": "c6d6dfae",
   "metadata": {},
   "outputs": [],
   "source": [
    "with open(r'C:\\Users\\Agustin\\DiHouse\\curso_udemy.txt','r') as f:\n",
    "    for linea in f:\n",
    "        print(linea)"
   ]
  },
  {
   "cell_type": "code",
   "execution_count": null,
   "id": "20ae51a7",
   "metadata": {},
   "outputs": [],
   "source": [
    "with open(r'C:\\Users\\Agustin\\DiHouse\\curso_udemy.txt','r') as f:\n",
    "    for linea in f:\n",
    "        palabras = linea.split()\n",
    "        print(palabras, type(palabras))"
   ]
  },
  {
   "cell_type": "code",
   "execution_count": null,
   "id": "b4276a1f",
   "metadata": {},
   "outputs": [],
   "source": [
    "palabras = list()\n",
    "with open(r'C:\\Users\\Agustin\\DiHouse\\curso_udemy.txt','r') as f:\n",
    "    for linea in f:\n",
    "        term_1 = linea.split()\n",
    "        for t in term_1:\n",
    "            palabras.append(t)\n",
    "print(palabras,type(palabras))"
   ]
  },
  {
   "cell_type": "markdown",
   "id": "48fa9f4d",
   "metadata": {},
   "source": [
    "# EJERCICIO FUNCIONES"
   ]
  },
  {
   "cell_type": "markdown",
   "id": "1566d3da",
   "metadata": {},
   "source": [
    "### 1) Realizar una funciona llamada area_rectangulo() que devuelva el área de un rectangulo a partir de una base y una altura. Calcula El area de un rectango de base 15 y altura 10."
   ]
  },
  {
   "cell_type": "code",
   "execution_count": null,
   "id": "d899e6ce",
   "metadata": {},
   "outputs": [],
   "source": [
    "def area_rectangulo(b,h):\n",
    "    return 'Area es {} un**2'.format(b*h)\n",
    "\n",
    "area_rectangulo(15,10)"
   ]
  },
  {
   "cell_type": "markdown",
   "id": "e476065d",
   "metadata": {},
   "source": [
    "### 2) Realiza una funciona llamada area_circulo() que devuelva el area de un circulo a partir de un radio. Calcula el area de un circulo de 5 de diametro"
   ]
  },
  {
   "cell_type": "code",
   "execution_count": null,
   "id": "79bc6bf5",
   "metadata": {},
   "outputs": [],
   "source": [
    "def area_circulo(r):\n",
    "    return 'El área del circulo es {} un**2'.format(3.1415*r**2)\n",
    "\n",
    "area_circulo(2.5)"
   ]
  },
  {
   "cell_type": "markdown",
   "id": "2048ef44",
   "metadata": {},
   "source": [
    "### 3) Realiza una funciona llamada relacion() que a partir de 2 numeros cumpla lo siguiente:\n",
    "    - Si el primer es mayor que el segundo, debe devolver 1\n",
    "    - Si el primer es menor que el segundo, debe devolver -1\n",
    "    - Si ambos son iguales debe devolver 0"
   ]
  },
  {
   "cell_type": "code",
   "execution_count": null,
   "id": "06c212f1",
   "metadata": {},
   "outputs": [],
   "source": [
    "def relacion(a,b):\n",
    "    if a > b:\n",
    "        return 1\n",
    "    elif a < b:\n",
    "        return -1\n",
    "    else:\n",
    "        return 0\n",
    "    \n",
    "relacion(1,7)"
   ]
  },
  {
   "cell_type": "markdown",
   "id": "2bba01d7",
   "metadata": {},
   "source": [
    "### 4) Realiza una funcion que se llama intermedio() que a partir de dos puntos, devuelva el punto intermedio"
   ]
  },
  {
   "cell_type": "code",
   "execution_count": null,
   "id": "5dd97f80",
   "metadata": {},
   "outputs": [],
   "source": [
    "def intermedio(a,b):\n",
    "    return (a+b)/2\n",
    "\n",
    "intermedio(2,4)"
   ]
  },
  {
   "cell_type": "markdown",
   "id": "5d9b9629",
   "metadata": {},
   "source": [
    "### 5) Realiza una funcion llamada recortar() que reciba 3 parámetros. El primero es el número a recotar, el segundo es el límite inferior y el tercero es el limite superior. La función tendrá que cumplir lo siguiente:\n",
    "    - Devolver el limite inferior si el numero es menor que éste\n",
    "    - Devolver el limite superior si el numero es mayor que este\n",
    "    - Devolver el numero sin cambios si no se supera ningun limite"
   ]
  },
  {
   "cell_type": "code",
   "execution_count": null,
   "id": "567b8c3b",
   "metadata": {},
   "outputs": [],
   "source": [
    "def recortar(num, Min, Max):\n",
    "    if num < Min:\n",
    "        return Min\n",
    "    elif num > Max:\n",
    "        return Max\n",
    "    return num\n",
    "\n",
    "recortar(4,3,5)\n",
    "recortar(2,3,5)"
   ]
  },
  {
   "cell_type": "markdown",
   "id": "6d081674",
   "metadata": {},
   "source": [
    "### 6) Realiza una funcion separar() que tome una lista de numeros enteros y devuelva dos listas ordenadas: la primera con los numeros pares y la segunda con los numeros impares\n",
    "\n",
    "***EJEMPLO***\n",
    "\n",
    "    - pares, impares = separar([1,2,3,4,5,6,7])\n",
    "    - print(pares) = [2,4,6]\n",
    "    - print(impares) = [1,3,5,7]"
   ]
  },
  {
   "cell_type": "code",
   "execution_count": null,
   "id": "83987c4f",
   "metadata": {},
   "outputs": [],
   "source": [
    "def separar(lista):\n",
    "    lista_par = []\n",
    "    lista_impar = []\n",
    "    lista.sort() #ordenar lista\n",
    "    for elemento in lista:\n",
    "        if elemento % 2 == 0:\n",
    "            lista_par.append(elemento)\n",
    "        else:\n",
    "            lista_impar.append(elemento)\n",
    "    return lista_par, lista_impar\n",
    "\n",
    "a = [132,423,21,4,21,5434,1,23,5,123]\n",
    "par, impar = separar(a)\n",
    "print(par, impar)"
   ]
  },
  {
   "cell_type": "markdown",
   "id": "9a9e1410",
   "metadata": {},
   "source": [
    "# SECCION 6: Manejo de Excepciones\n",
    "\n",
    "\n",
    "Syntax Error: errores de tipeo\n",
    "\n",
    "Name Error: nos equivocamos en el nombre de un objeto\n",
    "\n",
    "Type Error: Cuando esperamos un tipo y nos entrega otro\n",
    "\n",
    "Value Error: ZeroDivisionError,\n",
    "\n",
    "Atribute Error:"
   ]
  },
  {
   "cell_type": "code",
   "execution_count": null,
   "id": "7e0c6b37",
   "metadata": {},
   "outputs": [],
   "source": [
    "try:\n",
    "    num = int(input('Ingrese un número: '))\n",
    "    'El número ingresado es {} y al dividirlo da {}'.format(num, num/num)\n",
    "except:\n",
    "    print('Vamoo BOOCAA!! SI HUBIERA SABIDO ESTO ANTES LA CONCHAAA DE LA LORA_!!')"
   ]
  },
  {
   "cell_type": "code",
   "execution_count": null,
   "id": "2786f6e0",
   "metadata": {},
   "outputs": [],
   "source": [
    "while True:\n",
    "    try:\n",
    "        num = int(input('Ingrese un número: '))\n",
    "        print('El número ingresado es {} y al dividirlo da {}'.format(num, num/num))\n",
    "        break\n",
    "    except:\n",
    "        print('Vamoo BOOCAA!! SI HUBIERA SABIDO ESTO ANTES LA CONCHAAA DE LA LORA_!!')"
   ]
  },
  {
   "cell_type": "markdown",
   "id": "19a75297",
   "metadata": {},
   "source": [
    "<font color = #003d5c>\n",
    "    \n",
    " ### _Else y Finally_\n",
    "</font>"
   ]
  },
  {
   "cell_type": "code",
   "execution_count": null,
   "id": "ac4aefca",
   "metadata": {},
   "outputs": [],
   "source": [
    "while True:\n",
    "    try:\n",
    "        num = int(input('Pone un numero: '))\n",
    "        print('El numero es {}'.format(num))\n",
    "    except:\n",
    "        print('Hubo un puto error cabezon')\n",
    "    else:\n",
    "        print('Lo lograste men... pusiste el valor que te pidieron')\n",
    "        break"
   ]
  },
  {
   "cell_type": "code",
   "execution_count": null,
   "id": "e93c605a",
   "metadata": {},
   "outputs": [],
   "source": [
    "while True:\n",
    "    try:\n",
    "        num = int(input('Ingresa un numero: '))\n",
    "        print('El numero es {} y si division es {}'.format(num, num/num))\n",
    "    except:\n",
    "        print('Vo so? o te hace?')\n",
    "    else:\n",
    "        print('La ejecucion fue exitosa')\n",
    "        break\n",
    "    finally:\n",
    "        print('Termino el bucle')"
   ]
  },
  {
   "cell_type": "markdown",
   "id": "ee9ef11b",
   "metadata": {},
   "source": [
    "<font color = #003d5c>\n",
    "    \n",
    "# 6.3 Excepciones Multiples\n",
    "</font>\n",
    "\n",
    "### En el mismo bloque de codigo pueden sirgir distintos tipos de errores y suele ser conveniente actuar de manera particular para cada error.\n",
    "\n",
    "### Se recomienda asignar la excepcion a una variable, así podemos analizar el tipo de error que sucede por su indentificador."
   ]
  },
  {
   "cell_type": "code",
   "execution_count": null,
   "id": "5e1ea1cf",
   "metadata": {},
   "outputs": [],
   "source": [
    "try:\n",
    "    num = int(input('Ingrese un numero: '))\n",
    "    print('9 / {} = {}'.format(num, 9/num))\n",
    "except Exception as e: #\n",
    "    print('Ocurrio el siguiente error: ', type(e).__name__)"
   ]
  },
  {
   "cell_type": "code",
   "execution_count": null,
   "id": "fddd5fc2",
   "metadata": {},
   "outputs": [],
   "source": [
    "print(type(1).__name__)\n",
    "print(type(3.14).__name__)\n",
    "print(type([]).__name__)\n",
    "print(type(()).__name__)\n",
    "print(type({}).__name__)"
   ]
  },
  {
   "cell_type": "code",
   "execution_count": null,
   "id": "15073b13",
   "metadata": {},
   "outputs": [],
   "source": [
    "try:\n",
    "    num = int(input('Ingrese un número: '))\n",
    "    print('9 / {} = {}'.format(num, 9/num))\n",
    "except ValueError:\n",
    "    print('No se puede dividir 9 entre texto')\n",
    "except ZeroDivisionError:\n",
    "    print('No se puede dividir un número entre 0')\n",
    "except Exception as e:\n",
    "    print('Ocurrió el siguiente error: ', type(e).__name__)"
   ]
  },
  {
   "cell_type": "markdown",
   "id": "c9d272ef",
   "metadata": {},
   "source": [
    "<font color = #001d8c>\n",
    "    \n",
    "# 7.1 PROGRAMACION ORIENTADA A OBJETOS\n",
    "</font>\n",
    "\n",
    "### Para entender las diferencias entre los dos paradigmas de programación, trabajaremos con un ejemplo donde se nos pide la creacion de un registro para manejar el inventario de un negocio.\n",
    "\n",
    "### Debe incluir:\n",
    "\n",
    "* Código de identificación del producto\n",
    "* Nombre del producto\n",
    "* Categoría del producto\n",
    "* PVP\n",
    "\n",
    "### El programa debe permitirnos mostrar o borrar los datos de cada producto a partir del código identificador"
   ]
  },
  {
   "cell_type": "markdown",
   "id": "27689a9f",
   "metadata": {},
   "source": [
    "<font color = #001d8x>\n",
    "    \n",
    "## SOLUCION DEL PROBLEMA CON PROGRAMACION ESTRUCTURADA:\n",
    "</font>"
   ]
  },
  {
   "cell_type": "code",
   "execution_count": null,
   "id": "377e1f9e",
   "metadata": {},
   "outputs": [],
   "source": [
    "productos = [\n",
    "    {'cod':'10001', 'Nombre': 'Jabón Harmony', 'Categoria': 'Higiene personal', 'pvp': 0.9}, \n",
    "    {'cod':'10002', 'Nombre': 'Cereal Nestlé', 'Categoria': 'Cereal', 'pvp': 1.5}, \n",
    "    {'cod':'10003', 'Nombre': 'Limones', 'Categoria': 'Fruta', 'pvp': .7}]\n",
    "\n",
    "type(productos)"
   ]
  },
  {
   "cell_type": "code",
   "execution_count": null,
   "id": "941986e6",
   "metadata": {},
   "outputs": [],
   "source": [
    "productos[0]"
   ]
  },
  {
   "cell_type": "code",
   "execution_count": null,
   "id": "cf6f319b",
   "metadata": {},
   "outputs": [],
   "source": [
    "def mostrar_producto(productos, cod):\n",
    "    for p in productos:\n",
    "        if cod == p['cod']:\n",
    "            return print('{} {}'.format(p['Nombre'],p['pvp']))\n",
    "    print('Producto no encontrado')"
   ]
  },
  {
   "cell_type": "code",
   "execution_count": null,
   "id": "fe9419d3",
   "metadata": {},
   "outputs": [],
   "source": [
    "mostrar_producto(productos,'10003')"
   ]
  },
  {
   "cell_type": "code",
   "execution_count": null,
   "id": "62610cae",
   "metadata": {},
   "outputs": [],
   "source": [
    "mostrar_producto(productos,'777')"
   ]
  },
  {
   "cell_type": "code",
   "execution_count": null,
   "id": "fd47b74d",
   "metadata": {},
   "outputs": [],
   "source": [
    "def borrar_producto(productos, cod):\n",
    "    for i,p in enumerate(productos):\n",
    "        if cod == p['cod']:\n",
    "            del productos[i]\n",
    "            return print(str(p),'>ELIMINADO')\n",
    "    print('Producto no encontrado')"
   ]
  },
  {
   "cell_type": "code",
   "execution_count": null,
   "id": "6f4d5eba",
   "metadata": {},
   "outputs": [],
   "source": [
    "borrar_producto(productos,'10003')"
   ]
  },
  {
   "cell_type": "code",
   "execution_count": null,
   "id": "3ff85cf0",
   "metadata": {},
   "outputs": [],
   "source": [
    "mostrar_producto(productos,'10003')"
   ]
  },
  {
   "cell_type": "code",
   "execution_count": null,
   "id": "90da9ade",
   "metadata": {},
   "outputs": [],
   "source": [
    "print('==CATALOGO DE PRODUCTOS==')\n",
    "print(productos)\n",
    "\n",
    "print('\\n==MOSTRAR PRODUCTOS POR COD==')\n",
    "mostrar_producto(productos,'10001')\n",
    "mostrar_producto(productos,'10002')\n",
    "\n",
    "print('\\n==BORRAR PRODUCTOS POR COD==')\n",
    "borrar_producto(productos,'10001')\n",
    "borrar_producto(productos,'10002')\n",
    "\n",
    "print('\\n==CATALOGO DE PRODUCTOS==')\n",
    "print(productos)"
   ]
  },
  {
   "cell_type": "markdown",
   "id": "7ee29ae8",
   "metadata": {},
   "source": [
    "<font color = #001d5c>\n",
    "    \n",
    "## SOLUCION DEL PROBLEMA CON PROGRAMACION ORIENTADA A OBJETOS:\n",
    "</font>"
   ]
  },
  {
   "cell_type": "code",
   "execution_count": null,
   "id": "1b9ccd8c",
   "metadata": {},
   "outputs": [],
   "source": [
    "# Se crea una estructura para los productos\n",
    "class Producto:\n",
    "    \n",
    "    def __init__(self,cod,nombre,categoria,pvp):\n",
    "        self.cod = cod\n",
    "        self.nombre = nombre\n",
    "        self.categoria = categoria\n",
    "        self.pvp = pvp\n",
    "        \n",
    "    def __str__(self):\n",
    "        return '{} {}'.format(self.nombre,self.pvp)\n",
    "\n",
    "# Se crea una estructura para el negocio\n",
    "class Negocio:\n",
    "    \n",
    "    def __init__(self, productos = []):\n",
    "        self.productos = productos ##de aca salto el error\n",
    "        \n",
    "    def mostrar_producto(self, cod = None):\n",
    "        for p in self.productos:\n",
    "            if p.cod == cod:\n",
    "                print(p)\n",
    "                return\n",
    "        print('Producto no encontrado')\n",
    "        \n",
    "    def borrar_producto(self, cod = None):\n",
    "        for i,p in enumerate(self.productos):\n",
    "            if p.cod == cod:\n",
    "                del(self.productos[i])\n",
    "                print(str(p),'>ELIMINADO')\n",
    "                return\n",
    "        print('Producto no encontrado')"
   ]
  },
  {
   "cell_type": "code",
   "execution_count": null,
   "id": "fb3f4c46",
   "metadata": {},
   "outputs": [],
   "source": [
    "limones = Producto(nombre='Limones', cod='10010', categoria = 'Frutas', pvp=0.8)\n",
    "platos = Producto('10020', 'Platos Alpina', 'Vajilla', 2.4)"
   ]
  },
  {
   "cell_type": "code",
   "execution_count": null,
   "id": "0f2f450c",
   "metadata": {},
   "outputs": [],
   "source": [
    "limones"
   ]
  },
  {
   "cell_type": "code",
   "execution_count": null,
   "id": "9eaa4f4f",
   "metadata": {},
   "outputs": [],
   "source": [
    "str(platos)"
   ]
  },
  {
   "cell_type": "code",
   "execution_count": null,
   "id": "ff2342a4",
   "metadata": {},
   "outputs": [],
   "source": [
    "negocio = Negocio(productos=[limones,platos])"
   ]
  },
  {
   "cell_type": "code",
   "execution_count": null,
   "id": "d508c6f5",
   "metadata": {},
   "outputs": [],
   "source": [
    "negocio.productos #nombre_de_variable.atributo ##hubo error"
   ]
  },
  {
   "cell_type": "code",
   "execution_count": null,
   "id": "1ed38c0d",
   "metadata": {},
   "outputs": [],
   "source": [
    "# Para mostrar el producto por código\n",
    "\n",
    "negocio.mostrar_producto('10010')"
   ]
  },
  {
   "cell_type": "code",
   "execution_count": null,
   "id": "9762abd7",
   "metadata": {},
   "outputs": [],
   "source": [
    "# Para borrar el producto por código\n",
    "negocio.borrar_producto('10010')"
   ]
  },
  {
   "cell_type": "code",
   "execution_count": null,
   "id": "15f1226a",
   "metadata": {},
   "outputs": [],
   "source": [
    "negocio.borrar_producto('10010')"
   ]
  },
  {
   "cell_type": "code",
   "execution_count": null,
   "id": "def10a29",
   "metadata": {},
   "outputs": [],
   "source": [
    "type(limones)"
   ]
  },
  {
   "cell_type": "markdown",
   "id": "644263cd",
   "metadata": {},
   "source": [
    "<font color = #001c5d>\n",
    "    \n",
    "# 7.2 CLASES Y OBJETOS\n",
    "</font>\n",
    "\n",
    "### Las clases se asemejan a moldes que nos permiten crear objetos."
   ]
  },
  {
   "cell_type": "code",
   "execution_count": null,
   "id": "22dc6188",
   "metadata": {},
   "outputs": [],
   "source": [
    "class Torta:\n",
    "    pass # término clave que permite suplantar otra funcion por su valor sintátictico"
   ]
  },
  {
   "cell_type": "markdown",
   "id": "73e1a41c",
   "metadata": {},
   "source": [
    "### El procesode crear un objeto a partir de su clase se llama ***instanciación*** y por esto los objetos se conocen ambien como una instancia de clase."
   ]
  },
  {
   "cell_type": "code",
   "execution_count": null,
   "id": "359f4710",
   "metadata": {},
   "outputs": [],
   "source": [
    "torta = Torta()\n",
    "\n",
    "torta_3_leches = Torta()"
   ]
  },
  {
   "cell_type": "code",
   "execution_count": null,
   "id": "062acdc2",
   "metadata": {},
   "outputs": [],
   "source": [
    "torta"
   ]
  },
  {
   "cell_type": "code",
   "execution_count": null,
   "id": "c58aad7c",
   "metadata": {},
   "outputs": [],
   "source": [
    "torta_3_leches"
   ]
  },
  {
   "cell_type": "markdown",
   "id": "75484bc3",
   "metadata": {},
   "source": [
    "<font color = #001c5d>\n",
    "    \n",
    "# 7.3 Atributos y Métodos de clase\n",
    "</font>\n",
    "\n",
    "### Aunque los objetos salgan del mismo molde(clase), no todos los objetos son iguales.\n",
    "\n",
    "### Un objeto se diferencia de otros objetos de su misma clase por el valor de sus atributos"
   ]
  },
  {
   "cell_type": "code",
   "execution_count": null,
   "id": "63f72a92",
   "metadata": {},
   "outputs": [],
   "source": [
    "class Torta:\n",
    "    pass\n",
    "\n",
    "torta_fresa = Torta()"
   ]
  },
  {
   "cell_type": "code",
   "execution_count": null,
   "id": "9d9518ec",
   "metadata": {},
   "outputs": [],
   "source": [
    "torta_fresa"
   ]
  },
  {
   "cell_type": "markdown",
   "id": "5681df19",
   "metadata": {},
   "source": [
    "### Podemos asignarle atributos al objeto luego de su creación."
   ]
  },
  {
   "cell_type": "code",
   "execution_count": null,
   "id": "6e00ff8c",
   "metadata": {
    "scrolled": false
   },
   "outputs": [],
   "source": [
    "torta_fresa.sabor = 'Fresa'\n",
    "torta_fresa.color = 'Rosado'"
   ]
  },
  {
   "cell_type": "code",
   "execution_count": null,
   "id": "1279c14b",
   "metadata": {},
   "outputs": [],
   "source": [
    "torta_fresa.sabor"
   ]
  },
  {
   "cell_type": "code",
   "execution_count": null,
   "id": "dbc9791a",
   "metadata": {},
   "outputs": [],
   "source": [
    "f'El sabor de la torta es {torta_fresa.sabor}'"
   ]
  },
  {
   "cell_type": "markdown",
   "id": "64a7c56d",
   "metadata": {},
   "source": [
    "### También podemos definir internamente los atributos de clase, y asignarle un valor por defecto que compartiran todas las instancias"
   ]
  },
  {
   "cell_type": "code",
   "execution_count": null,
   "id": "d0f98681",
   "metadata": {},
   "outputs": [],
   "source": [
    "class Torta:\n",
    "    chocolate = False"
   ]
  },
  {
   "cell_type": "code",
   "execution_count": null,
   "id": "23ca6a72",
   "metadata": {},
   "outputs": [],
   "source": [
    "torta_2 = Torta()\n",
    "torta_2.chocolate"
   ]
  },
  {
   "cell_type": "code",
   "execution_count": null,
   "id": "df7bdd41",
   "metadata": {},
   "outputs": [],
   "source": [
    "torta_2.chocolate = True\n",
    "torta_2.chocolate"
   ]
  },
  {
   "cell_type": "markdown",
   "id": "1d5edde5",
   "metadata": {},
   "source": [
    "<font color = #001c5d>\n",
    "    \n",
    "## El método INIT y el término \"self\"\n",
    "</font>\n",
    "\n",
    "* init (metodo constructor) se ejecuta al crear el objeto: Permite enviarle arguento al objeto durante la instanciacion\n",
    "* self hace referencia al propio objeto: Sirve para diferenciar el ámito de clase y el de un método"
   ]
  },
  {
   "cell_type": "code",
   "execution_count": null,
   "id": "20285ac7",
   "metadata": {},
   "outputs": [],
   "source": [
    "class Torta:\n",
    "    \n",
    "    def __init__(self):\n",
    "        print('Se creó una torta')\n",
    "        \n",
    "t = Torta()    "
   ]
  },
  {
   "cell_type": "code",
   "execution_count": null,
   "id": "7d1a0a50",
   "metadata": {},
   "outputs": [],
   "source": [
    "class Torta:\n",
    "    glaseado = False\n",
    "    \n",
    "    def __init__(self):\n",
    "        print('Se creó una torta')\n",
    "    \n",
    "    def glasear(self):\n",
    "        self.glaseado = True\n",
    "\n",
    "t = Torta()\n",
    "t.glaseado"
   ]
  },
  {
   "cell_type": "code",
   "execution_count": null,
   "id": "dd9675ec",
   "metadata": {},
   "outputs": [],
   "source": [
    "t.glasear()\n",
    "t.glaseado"
   ]
  },
  {
   "cell_type": "code",
   "execution_count": null,
   "id": "469f9a57",
   "metadata": {},
   "outputs": [],
   "source": [
    "class Torta:\n",
    "    glaseado = False\n",
    "    \n",
    "    def __init__(self):\n",
    "        print('Se creó una torta!')\n",
    "    \n",
    "    def glasear(self):\n",
    "        self.glaseado = True\n",
    "    \n",
    "    def esta_glaseada(self):\n",
    "        if (self.glaseado):\n",
    "            print('La torta está glaseada')\n",
    "        else:\n",
    "            print('La torta es sencilla')"
   ]
  },
  {
   "cell_type": "code",
   "execution_count": null,
   "id": "4327ad48",
   "metadata": {},
   "outputs": [],
   "source": [
    "t = Torta()"
   ]
  },
  {
   "cell_type": "code",
   "execution_count": null,
   "id": "8acc4080",
   "metadata": {},
   "outputs": [],
   "source": [
    "t.esta_glaseada()"
   ]
  },
  {
   "cell_type": "code",
   "execution_count": null,
   "id": "ed7a2aba",
   "metadata": {},
   "outputs": [],
   "source": [
    "t.glasear()"
   ]
  },
  {
   "cell_type": "code",
   "execution_count": null,
   "id": "31f97d0a",
   "metadata": {},
   "outputs": [],
   "source": [
    "t.esta_glaseada()"
   ]
  },
  {
   "cell_type": "code",
   "execution_count": null,
   "id": "853149bc",
   "metadata": {},
   "outputs": [],
   "source": [
    "class Torta:\n",
    "    glaseado = False\n",
    "    \n",
    "    def __init__(self,sabor=None ,color=None):\n",
    "        self.sabor = sabor\n",
    "        self.color = color\n",
    "        print('Se creó una torta de {} color {}'.format(sabor, color))\n",
    "        \n",
    "    def glasear(self):\n",
    "        self.glaseado = True\n",
    "        \n",
    "    def esta_glaseado(self):\n",
    "        if self.glaseado:\n",
    "            print('La torta está glaseada')\n",
    "        else:\n",
    "            print('La torta es sencilla sin glaseado')"
   ]
  },
  {
   "cell_type": "code",
   "execution_count": null,
   "id": "00a81f2e",
   "metadata": {},
   "outputs": [],
   "source": [
    "o = Torta('Fresa','Rosa')"
   ]
  },
  {
   "cell_type": "code",
   "execution_count": null,
   "id": "42973d60",
   "metadata": {},
   "outputs": [],
   "source": [
    "o.esta_glaseado()"
   ]
  },
  {
   "cell_type": "code",
   "execution_count": null,
   "id": "fb8952cb",
   "metadata": {},
   "outputs": [],
   "source": [
    "o.glasear()\n",
    "o.esta_glaseado()"
   ]
  },
  {
   "cell_type": "code",
   "execution_count": null,
   "id": "fc18dbc4",
   "metadata": {},
   "outputs": [],
   "source": [
    "m = Torta()"
   ]
  },
  {
   "cell_type": "code",
   "execution_count": null,
   "id": "d2577377",
   "metadata": {},
   "outputs": [],
   "source": [
    "class Torta:\n",
    "    glaseado = False\n",
    "    \n",
    "    def __init__(self,sabor=None ,color=None):\n",
    "        self.sabor = sabor\n",
    "        self.color = color\n",
    "        if sabor is not None and color is not None:\n",
    "            print('Se creó una torta de {} color {}'.format(sabor, color))\n",
    "        else:\n",
    "            print('Se creo una torta de vainilla')\n",
    "        \n",
    "    def glasear(self):\n",
    "        self.glaseado = True\n",
    "        \n",
    "    def esta_glaseado(self):\n",
    "        if self.glaseado:\n",
    "            print('La torta está glaseada')\n",
    "        else:\n",
    "            print('La torta es sencilla sin glaseado')"
   ]
  },
  {
   "cell_type": "code",
   "execution_count": null,
   "id": "32959bc7",
   "metadata": {},
   "outputs": [],
   "source": [
    "m=Torta()"
   ]
  },
  {
   "cell_type": "markdown",
   "id": "04e15fc0",
   "metadata": {},
   "source": [
    "<font color = #001c5d>\n",
    "    \n",
    "# 7.4 Metodos especiales\n",
    "\n",
    "\n",
    "### El constructor de clase\n",
    "</font>"
   ]
  },
  {
   "cell_type": "code",
   "execution_count": null,
   "id": "e3e4ea2d",
   "metadata": {},
   "outputs": [],
   "source": [
    "class Video:\n",
    "    \n",
    "    #Constructor de clase:\n",
    "    def __init__(self,titulo,duracion,lanzamiento):\n",
    "        self.titulo = titulo\n",
    "        self.duracion = duracion\n",
    "        self.lanzamiento = lanzamiento\n",
    "        print('Se creó el video', self.titulo)\n",
    "\n",
    "v = Video('The avengers',143,2012)"
   ]
  },
  {
   "cell_type": "markdown",
   "id": "58c87fba",
   "metadata": {},
   "source": [
    "<font color = #001c5d>\n",
    "    \n",
    "### El destructor de clase   \\_\\_del\\_\\_ "
   ]
  },
  {
   "cell_type": "code",
   "execution_count": null,
   "id": "d5e52512",
   "metadata": {},
   "outputs": [],
   "source": [
    "class Video:\n",
    "    \n",
    "    def __init__(self,titulo,duracion,lanzamiento):\n",
    "        \n",
    "        self.titulo = titulo\n",
    "        self.duracion = duracion\n",
    "        self.lanzamiento = lanzamiento\n",
    "        print('Se creó el video',self.titulo)\n",
    "    \n",
    "    # El destructor de clase\n",
    "    def __del__(self):\n",
    "        print('Se eliminó el video',self.titulo)\n",
    "\n",
    "v = Video('The Avenger',143,2012)              "
   ]
  },
  {
   "cell_type": "code",
   "execution_count": null,
   "id": "ca8cfac7",
   "metadata": {},
   "outputs": [],
   "source": [
    "del(v)"
   ]
  },
  {
   "cell_type": "markdown",
   "id": "f9c20a17",
   "metadata": {},
   "source": [
    "<font color = #001c5d>\n",
    "    \n",
    "### Métodos str() y len()    "
   ]
  },
  {
   "cell_type": "code",
   "execution_count": null,
   "id": "84d3449a",
   "metadata": {},
   "outputs": [],
   "source": [
    "str(v)"
   ]
  },
  {
   "cell_type": "code",
   "execution_count": null,
   "id": "f26a4080",
   "metadata": {},
   "outputs": [],
   "source": []
  },
  {
   "cell_type": "code",
   "execution_count": null,
   "id": "06221b65",
   "metadata": {},
   "outputs": [],
   "source": [
    "class Video:\n",
    "    \n",
    "    def __init__(self,titulo,duracion,lanzamiento):\n",
    "        \n",
    "        self.titulo = titulo\n",
    "        self.duracion = duracion\n",
    "        self.lanzamiento = lanzamiento\n",
    "        print('Se creó el video',self.titulo)\n",
    "    \n",
    "    # El destructor de clase\n",
    "    def __del__(self):\n",
    "        print('Se eliminó el video',self.titulo)\n",
    "        \n",
    "    def __str__(self):\n",
    "        return f'{self.titulo} publicado en el año {self.lanzamiento} con una duración de {self.duracion} minutos'\n",
    "\n",
    "c = Video('Black panther', 134, 2018)"
   ]
  },
  {
   "cell_type": "code",
   "execution_count": null,
   "id": "6d4c8958",
   "metadata": {},
   "outputs": [],
   "source": [
    "str(c)"
   ]
  },
  {
   "cell_type": "code",
   "execution_count": null,
   "id": "63636e4f",
   "metadata": {},
   "outputs": [],
   "source": []
  },
  {
   "cell_type": "code",
   "execution_count": null,
   "id": "89ae2a05",
   "metadata": {},
   "outputs": [],
   "source": [
    "class Video:\n",
    "    \n",
    "    def __init__(self,titulo,duracion,lanzamiento):\n",
    "        \n",
    "        self.titulo = titulo\n",
    "        self.duracion = duracion\n",
    "        self.lanzamiento = lanzamiento\n",
    "        print('Se creó el video',self.titulo)\n",
    "    \n",
    "    # El destructor de clase\n",
    "    def __del__(self):\n",
    "        print('Se eliminó el video',self.titulo)\n",
    "        \n",
    "    def __str__(self):\n",
    "        return f'{self.titulo} publicado en el año {self.lanzamiento} con una duración de {self.duracion} minutos'\n",
    "    \n",
    "    def __len__(self):\n",
    "        return self.duracion"
   ]
  },
  {
   "cell_type": "code",
   "execution_count": null,
   "id": "2f5b1636",
   "metadata": {},
   "outputs": [],
   "source": [
    "v = Video('The Avengers',143,2012)\n",
    "c = Video('Black Panther',142,2018)"
   ]
  },
  {
   "cell_type": "code",
   "execution_count": null,
   "id": "70018966",
   "metadata": {},
   "outputs": [],
   "source": [
    "str(v)"
   ]
  },
  {
   "cell_type": "code",
   "execution_count": null,
   "id": "6bb14950",
   "metadata": {},
   "outputs": [],
   "source": [
    "len(c)"
   ]
  },
  {
   "cell_type": "code",
   "execution_count": null,
   "id": "2f98b45e",
   "metadata": {},
   "outputs": [],
   "source": [
    "len(v)"
   ]
  },
  {
   "cell_type": "markdown",
   "id": "c840832e",
   "metadata": {},
   "source": [
    "<font color = #001c5d>\n",
    "    \n",
    "# 7.5 Objetos dentro de objetos"
   ]
  },
  {
   "cell_type": "code",
   "execution_count": null,
   "id": "5143e143",
   "metadata": {},
   "outputs": [],
   "source": [
    "class Videojuegos:\n",
    "    \n",
    "    def __init__(self,titulo,genero,lanzamiento):\n",
    "        self.titulo = titulo\n",
    "        self.genero = genero\n",
    "        self.lanzamiento = lanzamiento\n",
    "        print('Se creó el juego',self.titulo)\n",
    "        "
   ]
  },
  {
   "cell_type": "code",
   "execution_count": null,
   "id": "2e4177a6",
   "metadata": {},
   "outputs": [],
   "source": []
  },
  {
   "cell_type": "code",
   "execution_count": null,
   "id": "ac7c65c5",
   "metadata": {},
   "outputs": [],
   "source": [
    "class Video:\n",
    "    \n",
    "    def __init__(self,titulo,duracion,lanzamiento):\n",
    "        \n",
    "        self.titulo = titulo\n",
    "        self.duracion = duracion\n",
    "        self.lanzamiento = lanzamiento\n",
    "        print('Se creó el video',self.titulo)\n",
    "    \n",
    "    # El destructor de clase\n",
    "    def __del__(self):\n",
    "        print('Se eliminó el video',self.titulo)\n",
    "        \n",
    "    def __str__(self):\n",
    "        return f'{self.titulo} publicado en el año {self.lanzamiento} con una duración de {self.duracion} minutos'\n",
    "\n",
    "c = Video('Black panther', 134, 2018)"
   ]
  },
  {
   "cell_type": "code",
   "execution_count": null,
   "id": "d45bcdea",
   "metadata": {},
   "outputs": [],
   "source": [
    "class Video:\n",
    "    \n",
    "    def __init__(self,titulo,duracion,lanzamiento):\n",
    "        \n",
    "        self.titulo = titulo\n",
    "        self.duracion = duracion\n",
    "        self.lanzamiento = lanzamiento\n",
    "        print('Se creó el video',self.titulo)\n",
    "    \n",
    "    # El destructor de clase\n",
    "    def __del__(self):\n",
    "        print('Se eliminó el video',self.titulo)\n",
    "        \n",
    "    def __str__(self):\n",
    "        return f'{self.titulo} publicado en el año {self.lanzamiento} con una duración de {self.duracion} minutos'\n",
    "\n",
    "c = Video('Black panther', 134, 2018)"
   ]
  },
  {
   "cell_type": "code",
   "execution_count": null,
   "id": "93ab7f7f",
   "metadata": {},
   "outputs": [],
   "source": [
    "class Video:\n",
    "    \n",
    "    def __init__(self,titulo,duracion,lanzamiento):\n",
    "        \n",
    "        self.titulo = titulo\n",
    "        self.duracion = duracion\n",
    "        self.lanzamiento = lanzamiento\n",
    "        print('Se creó el video',self.titulo)\n",
    "    \n",
    "    # El destructor de clase\n",
    "    def __del__(self):\n",
    "        print('Se eliminó el video',self.titulo)\n",
    "        \n",
    "    def __str__(self):\n",
    "        return f'{self.titulo} publicado en el año {self.lanzamiento} con una duración de {self.duracion} minutos'\n",
    "\n",
    "c = Video('Black panther', 134, 2018)"
   ]
  },
  {
   "cell_type": "code",
   "execution_count": null,
   "id": "fc056e7a",
   "metadata": {},
   "outputs": [],
   "source": []
  },
  {
   "cell_type": "code",
   "execution_count": null,
   "id": "20a45e7c",
   "metadata": {},
   "outputs": [],
   "source": [
    "class Video:\n",
    "    \n",
    "    def __init__(self,titulo,duracion,lanzamiento):\n",
    "        \n",
    "        self.titulo = titulo\n",
    "        self.duracion = duracion\n",
    "        self.lanzamiento = lanzamiento\n",
    "        print('Se creó el video',self.titulo)\n",
    "    \n",
    "    # El destructor de clase\n",
    "    def __del__(self):\n",
    "        print('Se eliminó el video',self.titulo)\n",
    "        \n",
    "    def __str__(self):\n",
    "        return f'{self.titulo} publicado en el año {self.lanzamiento} con una duración de {self.duracion} minutos'\n",
    "    \n",
    "    def __len__(self):\n",
    "        return 'La duración es de',self.duracion\n",
    "\n",
    "c = Video('Black panther', 134, 2018)"
   ]
  },
  {
   "cell_type": "code",
   "execution_count": null,
   "id": "607e321c",
   "metadata": {},
   "outputs": [],
   "source": [
    "len(v)"
   ]
  },
  {
   "cell_type": "markdown",
   "id": "12d4831d",
   "metadata": {},
   "source": [
    "<font color = #001d5c>\n",
    "    \n",
    "# 7.5 Objetos dentro de objetos"
   ]
  },
  {
   "cell_type": "code",
   "execution_count": null,
   "id": "ce2fa5a5",
   "metadata": {},
   "outputs": [],
   "source": [
    "class Videojuegos:\n",
    "    \n",
    "    def __init__(self,titulo,genero,lanzamiento):\n",
    "        self.titulo = titulo\n",
    "        self.genero = genero\n",
    "        self.lanzamiento = lanzamiento\n",
    "        print('Se creó el videojuego', self.titulo)\n",
    "    \n",
    "    def __str__(self):\n",
    "        return '{} ({})'.format(self.titulo,self.lanzamiento)"
   ]
  },
  {
   "cell_type": "code",
   "execution_count": null,
   "id": "048eb013",
   "metadata": {},
   "outputs": [],
   "source": [
    "vj = Videojuegos('The last of us', 'Accion', 2013)\n",
    "str(vj)"
   ]
  },
  {
   "cell_type": "code",
   "execution_count": null,
   "id": "98021e95",
   "metadata": {},
   "outputs": [],
   "source": [
    "class Catalogo:\n",
    "    \n",
    "    vjuegos = [] #Esta lista contendra objetos de la clase videojuegos\n",
    "    \n",
    "    def __init__(self,vjuegos = []):\n",
    "        self.vjuegos = vjuegos\n",
    "        \n",
    "    def agregar(self, v):\n",
    "        self.vjuegos.append(v)\n",
    "    \n",
    "    def mostrar(self):\n",
    "        for v in self.vjuegos:\n",
    "            print(v)"
   ]
  },
  {
   "cell_type": "code",
   "execution_count": null,
   "id": "6bbe714b",
   "metadata": {},
   "outputs": [],
   "source": [
    "vi = Videojuegos('The last of us Part 2','Accion',2020)"
   ]
  },
  {
   "cell_type": "code",
   "execution_count": null,
   "id": "ded330be",
   "metadata": {},
   "outputs": [],
   "source": [
    "c = Catalogo([vj,vi])"
   ]
  },
  {
   "cell_type": "code",
   "execution_count": null,
   "id": "35518c93",
   "metadata": {},
   "outputs": [],
   "source": [
    "c.mostrar()"
   ]
  },
  {
   "cell_type": "code",
   "execution_count": null,
   "id": "9aca8409",
   "metadata": {},
   "outputs": [],
   "source": [
    "c.agregar(Videojuegos('Pokemon','RPG',1996))"
   ]
  },
  {
   "cell_type": "code",
   "execution_count": null,
   "id": "ece336ce",
   "metadata": {},
   "outputs": [],
   "source": [
    "c.mostrar()"
   ]
  },
  {
   "cell_type": "markdown",
   "id": "8c9e930a",
   "metadata": {},
   "source": [
    "<font color = #001c5d>\n",
    "    \n",
    "# EJERCICIOS DE PROGRAMACION ORIENTADA A OBJETOS    "
   ]
  },
  {
   "cell_type": "markdown",
   "id": "c29813e4",
   "metadata": {},
   "source": [
    "1) Crea una clase llamada Punto con sus dos coordenadas X, Y.\n",
    "* Añada un metodo constructor para crear puntos, si no se recibe una cordenada, su valor será cero.\n",
    "* Redefine el metodo str para que al imprimir por pantalla el punto aparezca en formato (X,Y)\n",
    "* Define un metodo Cuadrante que indique a que cuadrante pertence el número"
   ]
  },
  {
   "cell_type": "code",
   "execution_count": null,
   "id": "8fcd32be",
   "metadata": {},
   "outputs": [],
   "source": [
    "class Punto:\n",
    "    \n",
    "    def __init__(self, x = 0, y = 0):\n",
    "        self.x = x\n",
    "        self.y = y\n",
    "        print('Se creó el punto')\n",
    "    \n",
    "    def __str__(self):\n",
    "        return '(X,Y) = ({},{})'.format(self.x, self.y)\n",
    "    \n",
    "    def cuadrante(self):\n",
    "        if self.x > 0 and self.y > 0:\n",
    "            print('1er cuadrante')\n",
    "        elif self.x < 0 and self.y > 0:\n",
    "            print('2do cuadrante')\n",
    "        elif self.x < 0 and self.y < 0:\n",
    "            print('3er cuadrante')\n",
    "        else:\n",
    "            print('4to cuadrante')    "
   ]
  },
  {
   "cell_type": "code",
   "execution_count": null,
   "id": "141b8f5e",
   "metadata": {},
   "outputs": [],
   "source": [
    "pto1 = Punto(1,1)\n",
    "pto2 = Punto(-1,1)\n",
    "pto3 = Punto(-1,-1)\n",
    "pto4 = Punto(1,-1)\n",
    "pto5 = Punto()"
   ]
  },
  {
   "cell_type": "code",
   "execution_count": null,
   "id": "f37ca69c",
   "metadata": {},
   "outputs": [],
   "source": [
    "str(pto1)"
   ]
  },
  {
   "cell_type": "code",
   "execution_count": null,
   "id": "8a9ce768",
   "metadata": {},
   "outputs": [],
   "source": [
    "str(pto5)"
   ]
  },
  {
   "cell_type": "code",
   "execution_count": null,
   "id": "7d8f7d74",
   "metadata": {},
   "outputs": [],
   "source": [
    "str(pto3)"
   ]
  },
  {
   "cell_type": "code",
   "execution_count": null,
   "id": "5ff25e98",
   "metadata": {},
   "outputs": [],
   "source": [
    "Punto.cuadrante(pto1)"
   ]
  },
  {
   "cell_type": "code",
   "execution_count": null,
   "id": "e43f9335",
   "metadata": {},
   "outputs": [],
   "source": [
    "pto2.cuadrante()"
   ]
  },
  {
   "cell_type": "code",
   "execution_count": null,
   "id": "59beac98",
   "metadata": {},
   "outputs": [],
   "source": [
    "pto3.cuadrante()"
   ]
  },
  {
   "cell_type": "code",
   "execution_count": null,
   "id": "1a00cff5",
   "metadata": {},
   "outputs": [],
   "source": [
    "pto4.cuadrante()"
   ]
  },
  {
   "cell_type": "code",
   "execution_count": null,
   "id": "a9b872d1",
   "metadata": {},
   "outputs": [],
   "source": [
    "pto5.cuadrante()"
   ]
  },
  {
   "cell_type": "code",
   "execution_count": null,
   "id": "213956b2",
   "metadata": {},
   "outputs": [],
   "source": []
  },
  {
   "cell_type": "code",
   "execution_count": null,
   "id": "9e835e2a",
   "metadata": {},
   "outputs": [],
   "source": [
    "import math\n",
    "class Punto:\n",
    "    \n",
    "    def __init__(self, x = 0, y = 0):\n",
    "        self.x = x\n",
    "        self.y = y\n",
    "        print('Se creó el punto')\n",
    "    \n",
    "    def __str__(self):\n",
    "        return '(X,Y) = ({},{})'.format(self.x, self.y)\n",
    "    \n",
    "    def cuadrante(self):\n",
    "        if self.x > 0 and self.y > 0:\n",
    "            print('1er cuadrante')\n",
    "        elif self.x < 0 and self.y > 0:\n",
    "            print('2do cuadrante')\n",
    "        elif self.x < 0 and self.y < 0:\n",
    "            print('3er cuadrante')\n",
    "        elif self.x > 0 and self.y < 0:\n",
    "            print('4to cuadrante') \n",
    "        elif self.x != 0 and self.y == 0:\n",
    "            print('En el eje X')\n",
    "        elif self.x == 0 and self.y != 0:\n",
    "            print('Sobre el eje Y')\n",
    "        else:\n",
    "            print('Se encuentra el origen')\n",
    "    \n",
    "    def vector(self, p):\n",
    "        print(f'El vector que uno los puntos {self} y {p} es igual a ({p.x - self.x}, {p.y - self.y})')\n",
    "        \n",
    "    def distancia(self,p):\n",
    "        mod = math.sqrt((p.x - self.x)**2 + (p.y - self.y)**2)\n",
    "        print(f'La distancia entre los puntos {self} y {p} es {mod}')"
   ]
  },
  {
   "cell_type": "code",
   "execution_count": null,
   "id": "78faab9d",
   "metadata": {},
   "outputs": [],
   "source": [
    "pto1 = Punto(1,3)\n",
    "pto2 = Punto(1,1)"
   ]
  },
  {
   "cell_type": "code",
   "execution_count": null,
   "id": "059f3cea",
   "metadata": {},
   "outputs": [],
   "source": [
    "pto1.vector(pto2)"
   ]
  },
  {
   "cell_type": "code",
   "execution_count": null,
   "id": "3b40955c",
   "metadata": {},
   "outputs": [],
   "source": [
    "pto1.distancia(pto2)"
   ]
  },
  {
   "cell_type": "code",
   "execution_count": null,
   "id": "c5041d44",
   "metadata": {},
   "outputs": [],
   "source": [
    "str(pto2)"
   ]
  },
  {
   "cell_type": "markdown",
   "id": "6bd71197",
   "metadata": {},
   "source": [
    "### Ejercicio 2\n",
    "**Crea una clase llamada RECTANGULO con dos puntos (inicial y final) que formaran la diagonal del rectangulo**\n",
    "\n",
    "* Añade un metodo constructor para crear ambos puntos facilmente, si no se crearan dos punto por defecto se elige el origen\n",
    "* Añade al rectangulo un metodo llamado Mostrar_base que muestra la base\n",
    "* Añade un metodo llamado Mostrar_altura que muestre la altura\n",
    "* Añade al rectangulo un metodo llamnado Mostrar_area que muestre el área"
   ]
  },
  {
   "cell_type": "code",
   "execution_count": null,
   "id": "fd7a2155",
   "metadata": {},
   "outputs": [],
   "source": [
    "class Rectangulo:\n",
    "    \n",
    "    def __init__(self, punto_inicial = Punto(0,0), punto_final = Punto(0,0)):\n",
    "        self.punto_inicial = punto_inicial\n",
    "        self.punto_final = punto_final\n",
    "        self.base = abs(self.punto_final.x - self.punto_inicial.x)\n",
    "        self.altura = abs(self.punto_final.y - self.punto_inicial.y)\n",
    "        self.area = self.base * self.altura\n",
    "        print('Se creó el rectangulo')\n",
    "    \n",
    "    def mostrar_base(self):\n",
    "        print(f'La base del rectangulo es {self.base} un.')\n",
    "    \n",
    "    def mostrar_altura(self):\n",
    "        print(f'La altura del rectangulo es {self.altura} un.')\n",
    "        \n",
    "    def mostrar_area(self):\n",
    "        print(f'El área del rectangulo es {self.area} un.**2')"
   ]
  },
  {
   "cell_type": "code",
   "execution_count": null,
   "id": "caa83b19",
   "metadata": {},
   "outputs": [],
   "source": [
    "a = Punto(2,2)\n",
    "c = Punto(3,4)"
   ]
  },
  {
   "cell_type": "code",
   "execution_count": null,
   "id": "1f5d2731",
   "metadata": {},
   "outputs": [],
   "source": [
    "rec = Rectangulo(a,c)"
   ]
  },
  {
   "cell_type": "code",
   "execution_count": null,
   "id": "c91fc6ac",
   "metadata": {},
   "outputs": [],
   "source": [
    "rec.mostrar_area()"
   ]
  },
  {
   "cell_type": "code",
   "execution_count": null,
   "id": "afbc6909",
   "metadata": {},
   "outputs": [],
   "source": [
    "rec.mostrar_altura()"
   ]
  },
  {
   "cell_type": "code",
   "execution_count": null,
   "id": "4f24b5fa",
   "metadata": {},
   "outputs": [],
   "source": [
    "rec.mostrar_base()"
   ]
  },
  {
   "cell_type": "markdown",
   "id": "88e9f3aa",
   "metadata": {},
   "source": [
    "<font color = #001c5d>\n",
    "    \n",
    "# 8.1 HERENCIA SIMPLE    "
   ]
  },
  {
   "cell_type": "code",
   "execution_count": null,
   "id": "98800a33",
   "metadata": {},
   "outputs": [],
   "source": [
    "class Producto:\n",
    "    \n",
    "    def __init__(self, ref, nombre, pvp, descripcion, \n",
    "                 marca = None, categoria = None, talla = None):\n",
    "        self.ref = ref\n",
    "        self.nombre = nombre\n",
    "        self.pvp = pvp\n",
    "        self.descripcion = descripcion\n",
    "        self.marca = marca\n",
    "        self.categoria = categoria\n",
    "        self.talla = talla\n",
    "        \n",
    "combo_1 = Producto('70010','Combo 1', 150, 'Harina de mariz (1kg), Carne de res (2kg), Detergente para ropa (500g)')\n",
    "\n",
    "print(combo_1)\n",
    "print(combo_1.descripcion)        "
   ]
  },
  {
   "cell_type": "markdown",
   "id": "61f06456",
   "metadata": {},
   "source": [
    "<font color = #001c9d>\n",
    "    \n",
    "## SUPERCLASES Y SUBCLASES\n",
    "</font>\n",
    "    \n",
    "### Debemos identificar una superclase que contendrá todos los atributos comunes\n",
    "\n",
    "### A la superclase la vamos a llamar Producto"
   ]
  },
  {
   "cell_type": "code",
   "execution_count": null,
   "id": "192701cf",
   "metadata": {},
   "outputs": [],
   "source": [
    "class Producto:\n",
    "    \n",
    "    def __init__(self, ref, nombre, pvp, descripcion):\n",
    "        self.ref = ref\n",
    "        self.nombre = nombre\n",
    "        self.pvp = pvp\n",
    "        self.descripcion = descripcion\n",
    "        \n",
    "    def __str__(self):\n",
    "        return f\"Referencia:\\t{self.ref}\\n\"\\\n",
    "               f\"Nombre:\\t\\t{self.nombre}\\n\" \\\n",
    "               f\"PVP:\\t\\t${self.pvp}\\n\" \\\n",
    "               f\"Descripcion:\\t{self.descripcion}\\n\"\n",
    "    "
   ]
  },
  {
   "cell_type": "markdown",
   "id": "55a78c9c",
   "metadata": {},
   "source": [
    "### A partir del tipo de producto, vamso a definir sublases: Combo, Ropa Alimentos"
   ]
  },
  {
   "cell_type": "code",
   "execution_count": null,
   "id": "1e1158ea",
   "metadata": {},
   "outputs": [],
   "source": [
    "class Combo(Producto):\n",
    "    pass"
   ]
  },
  {
   "cell_type": "code",
   "execution_count": null,
   "id": "854f7ca1",
   "metadata": {},
   "outputs": [],
   "source": [
    "c_1 = Combo('70010','Combo 1', 150, 'Harina de maíz (1kg), Carne de res (2kg), Detergente para ropa (500g)')"
   ]
  },
  {
   "cell_type": "code",
   "execution_count": null,
   "id": "45e4d016",
   "metadata": {},
   "outputs": [],
   "source": [
    "print(c_1)"
   ]
  },
  {
   "cell_type": "code",
   "execution_count": null,
   "id": "29a7f8f7",
   "metadata": {},
   "outputs": [],
   "source": [
    "# Prueba de cargado de objeto\n",
    "a = input('Ingrese referncia: ')\n",
    "b= input('Ingrese nombre combo:')\n",
    "b = 'Combo ' + b\n",
    "c = int(input('Ingrese precio de venta al público: '))\n",
    "d = input('Ingrese Descripcion: ')\n",
    "\n",
    "c_2 = Combo(a,b,c,d)\n",
    "\n",
    "print(c_2)"
   ]
  },
  {
   "cell_type": "code",
   "execution_count": 12,
   "id": "a5ed0cd1",
   "metadata": {},
   "outputs": [],
   "source": [
    "class Alimento(Producto):\n",
    "    marca = ''\n",
    "    categoria = ''\n",
    "    \n",
    "    def __str__(self):\n",
    "        return f\"Referencia:\\t{self.ref}\\n\"\\\n",
    "               f\"Nombre:\\t\\t{self.nombre}\\n\" \\\n",
    "               f\"PVP:\\t\\t${self.pvp}\\n\" \\\n",
    "               f\"Descripcion:\\t{self.descripcion}\\n\" \\\n",
    "               f\"Marca:\\t\\t{self.marca}\\n\" \\\n",
    "               f\"Categoria:\\t{self.categoria}\\n\""
   ]
  },
  {
   "cell_type": "code",
   "execution_count": 13,
   "id": "1bcb0e66",
   "metadata": {},
   "outputs": [
    {
     "name": "stdout",
     "output_type": "stream",
     "text": [
      "Referencia:\t10001\n",
      "Nombre:\t\tHarina de Maíz\n",
      "PVP:\t\t$0.9\n",
      "Descripcion:\tHarina precocida (1kg)\n",
      "Marca:\t\tNestlé\n",
      "Categoria:\tCereales\n",
      "\n"
     ]
    }
   ],
   "source": [
    "harina = Alimento(10001,'Harina de Maíz', 0.9,'Harina precocida (1kg)')\n",
    "harina.marca = 'Nestlé'\n",
    "harina.categoria = 'Cereales'\n",
    "print(harina)"
   ]
  },
  {
   "cell_type": "code",
   "execution_count": 14,
   "id": "f8115fe4",
   "metadata": {},
   "outputs": [],
   "source": [
    "class Ropa(Producto):\n",
    "    marca = ''\n",
    "    categoria = ''\n",
    "    talla = ''\n",
    "    \n",
    "    def __str__(self):\n",
    "                return f\"Referencia:\\t{self.ref}\\n\"\\\n",
    "               f\"Nombre:\\t\\t{self.nombre}\\n\" \\\n",
    "               f\"PVP:\\t\\t${self.pvp}\\n\" \\\n",
    "               f\"Descripcion:\\t{self.descripcion}\\n\" \\\n",
    "               f\"Marca:\\t\\t{self.marca}\\n\" \\\n",
    "               f\"Categoria:\\t{self.categoria}\\n\"\\\n",
    "               f\"Talla:\\t\\t{self.talla}\\n\""
   ]
  },
  {
   "cell_type": "code",
   "execution_count": 15,
   "id": "fb3f0e36",
   "metadata": {},
   "outputs": [
    {
     "name": "stdout",
     "output_type": "stream",
     "text": [
      "Referencia:\t200001\n",
      "Nombre:\t\tPantalón\n",
      "PVP:\t\t$4.7\n",
      "Descripcion:\tStrech color rojo\n",
      "Marca:\t\tLevi's\n",
      "Categoria:\tFemenino\n",
      "Talla:\t\t28\n",
      "\n"
     ]
    }
   ],
   "source": [
    "pantalon = Ropa('200001', 'Pantalón', 4.7, \"Strech color rojo\")\n",
    "pantalon.marca = 'Levi\\'s'\n",
    "pantalon.categoria = 'Femenino'\n",
    "pantalon.talla = '28'\n",
    "\n",
    "print(pantalon)"
   ]
  },
  {
   "cell_type": "markdown",
   "id": "a519529a",
   "metadata": {},
   "source": [
    "<font color = #001c9d>\n",
    "    \n",
    "# 8.2 Multiherencia\n",
    "</font>\n",
    "\n",
    "### La multiherencia, o referencia múltiple, hace referencia a que en Python existe la posibilidad de que una subclase herede de varias superclases a la vez."
   ]
  },
  {
   "cell_type": "code",
   "execution_count": 20,
   "id": "c4674902",
   "metadata": {},
   "outputs": [],
   "source": [
    "class A:\n",
    "    def __init__(self):\n",
    "        print('Soy clase A')\n",
    "        \n",
    "    def metodo_a(self):\n",
    "        print('Heredo método de A')\n",
    "        \n",
    "class B:\n",
    "    def __init__(self):\n",
    "        print('Soy clase B')\n",
    "    def metodo_b(self):\n",
    "        print('como A no tiene método con mi nombre, también me hereda a mí')\n",
    "        \n",
    "class C:\n",
    "    def __init__(self):\n",
    "        print('Soy clase C')\n",
    "        \n",
    "class D(A,B):\n",
    "    pass"
   ]
  },
  {
   "cell_type": "markdown",
   "id": "ec50c886",
   "metadata": {},
   "source": [
    "### Cuando las superclases tienen métodos/atributos iguales, Python da prioridad a las superclases que están mas a la izquierda en la declaracion de argumentos"
   ]
  },
  {
   "cell_type": "code",
   "execution_count": 17,
   "id": "60870bd9",
   "metadata": {},
   "outputs": [
    {
     "name": "stdout",
     "output_type": "stream",
     "text": [
      "Soy clase A\n"
     ]
    }
   ],
   "source": [
    "c = D()"
   ]
  },
  {
   "cell_type": "code",
   "execution_count": 18,
   "id": "8cebfe1c",
   "metadata": {},
   "outputs": [],
   "source": [
    "class D(B,A):\n",
    "    pass"
   ]
  },
  {
   "cell_type": "code",
   "execution_count": 21,
   "id": "437421d0",
   "metadata": {},
   "outputs": [
    {
     "name": "stdout",
     "output_type": "stream",
     "text": [
      "Soy clase A\n"
     ]
    }
   ],
   "source": [
    "c = D()"
   ]
  },
  {
   "cell_type": "code",
   "execution_count": 22,
   "id": "702fa6a3",
   "metadata": {},
   "outputs": [
    {
     "name": "stdout",
     "output_type": "stream",
     "text": [
      "Heredo método de A\n"
     ]
    }
   ],
   "source": [
    "c.metodo_a()"
   ]
  },
  {
   "cell_type": "code",
   "execution_count": 23,
   "id": "afedc3ee",
   "metadata": {},
   "outputs": [
    {
     "name": "stdout",
     "output_type": "stream",
     "text": [
      "como A no tiene método con mi nombre, también me hereda a mí\n"
     ]
    }
   ],
   "source": [
    "c.metodo_b()"
   ]
  },
  {
   "cell_type": "markdown",
   "id": "f900e934",
   "metadata": {},
   "source": [
    "<font color = #001c9d>\n",
    "    \n",
    "# 8.3 Polimorfismo\n",
    "</font>\n",
    "\n",
    "### El polimorfismo es una propiedad de la herencia qe permite que objetos de distintas clases puedan responder a la misma accion/llamada\n",
    "\n",
    "### En Python todas las clases son polimórficas por defecto ya que todas las clases son sublases de una superclase llama Object"
   ]
  },
  {
   "cell_type": "code",
   "execution_count": 25,
   "id": "b006de20",
   "metadata": {},
   "outputs": [],
   "source": [
    "class Producto:\n",
    "    def __init__(self, ref, nombre, pvp, descripcion):\n",
    "        self.ref = ref\n",
    "        self.nombre = nombre\n",
    "        self.pvp = pvp\n",
    "        self.descripcion = descripcion\n",
    "        \n",
    "    def __str__(self):\n",
    "        return \\\n",
    "    f\"Referencia:\\t{self.ref}\\n\"\\\n",
    "    f\"Nombre:\\t\\t{self.nombre}\\n\"\\\n",
    "    f\"PVP:\\t\\t{self.pvp}\\n\"\\\n",
    "    f\"Descripcion:\\t{self.descripcion}\\n\"\n",
    "    \n",
    "class Combo(Producto):\n",
    "    pass\n",
    "\n",
    "class Ropa(Producto):\n",
    "    marca = ''\n",
    "    categoria = ''\n",
    "    talla = ''\n",
    "    \n",
    "    def __str__(self):\n",
    "        return \\\n",
    "    f\"Referencia:\\t{self.ref}\\n\"\\\n",
    "    f\"Nombre:\\t\\t{self.nombre}\\n\"\\\n",
    "    f\"PVP:\\t\\t{self.pvp}\\n\"\\\n",
    "    f\"Descripcion:\\t{self.descripcion}\\n\"\\\n",
    "    f\"Marca:\\t\\t{self.marca}\\n\"\\\n",
    "    f\"Categoria:\\t{self.categoria}\\n\"\\\n",
    "    f\"Talla:\\t\\t{self.talla}\\n\""
   ]
  },
  {
   "cell_type": "code",
   "execution_count": 26,
   "id": "adde0dee",
   "metadata": {},
   "outputs": [],
   "source": [
    "combo_1 = Combo('70010','Combo 1', 150, 'Harina de maíz (1kg), Carne de res (2kg), Detergente para ropa (500g)')\n",
    "\n",
    "pant_1 = Ropa('200001', 'Pantalón', 200, 'Stretch Color Rojo')\n",
    "pant_1.marca = 'Levi\\'s'\n",
    "pant_1.categoria = 'Dama'\n",
    "pant_1.talla = 30\n",
    "\n",
    "harina = Alimento(10001, 'Harina de maiz', 30, 'Harina precocida')\n",
    "harina.marca = 'Nestlé'\n",
    "harina.categoria = \"Cereales\""
   ]
  },
  {
   "cell_type": "code",
   "execution_count": 27,
   "id": "c27214e8",
   "metadata": {},
   "outputs": [],
   "source": [
    "producto = [combo_1, harina]"
   ]
  },
  {
   "cell_type": "code",
   "execution_count": 28,
   "id": "a33c603a",
   "metadata": {},
   "outputs": [],
   "source": [
    "producto.append(pant_1)"
   ]
  },
  {
   "cell_type": "code",
   "execution_count": 30,
   "id": "522e5320",
   "metadata": {},
   "outputs": [
    {
     "data": {
      "text/plain": [
       "[<__main__.Combo at 0x276022aea90>,\n",
       " <__main__.Alimento at 0x276022aec70>,\n",
       " <__main__.Ropa at 0x276022aef10>]"
      ]
     },
     "execution_count": 30,
     "metadata": {},
     "output_type": "execute_result"
    }
   ],
   "source": [
    "producto"
   ]
  },
  {
   "cell_type": "code",
   "execution_count": 31,
   "id": "1d25af14",
   "metadata": {},
   "outputs": [
    {
     "name": "stdout",
     "output_type": "stream",
     "text": [
      "70010 Combo 1\n",
      "10001 Harina de maiz\n",
      "200001 Pantalón\n"
     ]
    }
   ],
   "source": [
    "for p in producto:\n",
    "    print(p.ref, p.nombre)"
   ]
  },
  {
   "cell_type": "code",
   "execution_count": 33,
   "id": "7d239d22",
   "metadata": {},
   "outputs": [
    {
     "data": {
      "text/plain": [
       "True"
      ]
     },
     "execution_count": 33,
     "metadata": {},
     "output_type": "execute_result"
    }
   ],
   "source": [
    "isinstance(combo_1, Combo)"
   ]
  },
  {
   "cell_type": "code",
   "execution_count": 35,
   "id": "5678cc08",
   "metadata": {},
   "outputs": [
    {
     "name": "stdout",
     "output_type": "stream",
     "text": [
      "70010 Combo 1\n",
      "10001 Harina de maiz Nestlé\n",
      "200001 Pantalón 30\n"
     ]
    }
   ],
   "source": [
    "for p in producto:\n",
    "    if isinstance(p,Combo):\n",
    "        print(p.ref, p.nombre)\n",
    "    elif isinstance(p,Ropa):\n",
    "        print(p.ref, p.nombre, p.talla)\n",
    "    elif isinstance(p,Alimento):\n",
    "        print(p.ref, p.nombre, p.marca)"
   ]
  },
  {
   "cell_type": "code",
   "execution_count": 39,
   "id": "48f42d1e",
   "metadata": {},
   "outputs": [
    {
     "name": "stdout",
     "output_type": "stream",
     "text": [
      "Referencia:\t200001\n",
      "Nombre:\t\tPantalón\n",
      "PVP:\t\t129.6\n",
      "Descripcion:\tStretch Color Rojo\n",
      "Marca:\t\tLevi's\n",
      "Categoria:\tDama\n",
      "Talla:\t\t30\n",
      "\n"
     ]
    }
   ],
   "source": [
    "def descuento(p, rebaja):\n",
    "    p.pvp = p.pvp - p.pvp*(rebaja/100)\n",
    "    return p\n",
    "\n",
    "pantalon_desc = descuento(pant_1, 10)\n",
    "print(pantalon_desc)"
   ]
  },
  {
   "cell_type": "code",
   "execution_count": 40,
   "id": "cc3233ee",
   "metadata": {},
   "outputs": [
    {
     "name": "stdout",
     "output_type": "stream",
     "text": [
      "Referencia:\t200001\n",
      "Nombre:\t\tPantalón\n",
      "PVP:\t\t129.6\n",
      "Descripcion:\tStretch Color Rojo\n",
      "Marca:\t\tLevi's\n",
      "Categoria:\tDama\n",
      "Talla:\t\t30\n",
      "\n"
     ]
    }
   ],
   "source": [
    "print(pant_1)"
   ]
  },
  {
   "cell_type": "markdown",
   "id": "7b41a523",
   "metadata": {},
   "source": [
    "## modulo copy"
   ]
  },
  {
   "cell_type": "code",
   "execution_count": 41,
   "id": "d2176fe4",
   "metadata": {},
   "outputs": [
    {
     "name": "stdout",
     "output_type": "stream",
     "text": [
      "Referencia:\t200001\n",
      "Nombre:\t\tPantalón\n",
      "PVP:\t\t129.6\n",
      "Descripcion:\tStretch Color Rojo\n",
      "Marca:\t\tLevi's\n",
      "Categoria:\tDama\n",
      "Talla:\t\t30\n",
      "\n"
     ]
    }
   ],
   "source": [
    "import copy\n",
    "\n",
    "copia_pant = copy.copy(pant_1)\n",
    "print(copia_pant)"
   ]
  },
  {
   "cell_type": "code",
   "execution_count": 42,
   "id": "66e98e3d",
   "metadata": {},
   "outputs": [
    {
     "name": "stdout",
     "output_type": "stream",
     "text": [
      "Referencia:\t200001\n",
      "Nombre:\t\tPantalón\n",
      "PVP:\t\t500\n",
      "Descripcion:\tStretch Color Rojo\n",
      "Marca:\t\tLevi's\n",
      "Categoria:\tDama\n",
      "Talla:\t\t30\n",
      "\n",
      "Referencia:\t200001\n",
      "Nombre:\t\tPantalón\n",
      "PVP:\t\t129.6\n",
      "Descripcion:\tStretch Color Rojo\n",
      "Marca:\t\tLevi's\n",
      "Categoria:\tDama\n",
      "Talla:\t\t30\n",
      "\n"
     ]
    }
   ],
   "source": [
    "copia_pant.pvp = 500\n",
    "print(copia_pant)\n",
    "print(pant_1)"
   ]
  },
  {
   "cell_type": "markdown",
   "id": "efbf1d70",
   "metadata": {},
   "source": [
    "##  EJERCIOS 8.3"
   ]
  },
  {
   "cell_type": "markdown",
   "id": "708f0238",
   "metadata": {},
   "source": [
    "**1) Crea una superclase llamada \"Vehiculo\" cuyos atributos sean Color, y Ruedas. Redefine el metodo _str_ para que devuelva por pantalla:**\n",
    "\n",
    "Color: {Color del vehiculo}, {Cantidad de ruedas} ruedas\n",
    "\n",
    "**Crea una subclase llamada \"Carro\" y agrega los atributos, Velocidad, Cilindrada. Refefine el metodo _str_ para que devuelva por pantalla:**\n",
    "\n",
    "Color: {El color del vehiculo}, {Velocidad} km/h, {Cantidad de ruedas} ruedas, {Cilindrada}cc"
   ]
  },
  {
   "cell_type": "code",
   "execution_count": 43,
   "id": "2753012c",
   "metadata": {},
   "outputs": [],
   "source": [
    "class Vehiculo:\n",
    "    def __init__(self, color, ruedas):\n",
    "        self.color = color\n",
    "        self.ruedas = ruedas\n",
    "        \n",
    "    def __str__(self):\n",
    "        return \\\n",
    "    f\"Color: {self.color}, {self.ruedas} ruedas\"\n",
    "    \n",
    "class Carro(Vehiculo):\n",
    "    velocidad = ''\n",
    "    cilindrara = ''\n",
    "    \n",
    "    def __str__(self):return \\\n",
    "    f\"Color: {self.color}, {self.velocidad} km/h, {self.ruedas} ruedas, {self.cilindrada}cc\""
   ]
  },
  {
   "cell_type": "code",
   "execution_count": 45,
   "id": "82237fc5",
   "metadata": {},
   "outputs": [],
   "source": [
    "suran = Carro('Azul', '4')\n",
    "suran.velocidad = '130'\n",
    "suran.cilindrada = 1600"
   ]
  },
  {
   "cell_type": "code",
   "execution_count": 46,
   "id": "44d392c1",
   "metadata": {},
   "outputs": [
    {
     "name": "stdout",
     "output_type": "stream",
     "text": [
      "Color: Azul, 130 km/h, 4 ruedas, 1600cc\n"
     ]
    }
   ],
   "source": [
    "print(suran)"
   ]
  },
  {
   "cell_type": "code",
   "execution_count": 51,
   "id": "5f0399b9",
   "metadata": {},
   "outputs": [],
   "source": [
    "class Vehiculo:\n",
    "    def __init__(self, color, ruedas):\n",
    "        self.color = color\n",
    "        self.ruedas = ruedas\n",
    "        \n",
    "    def __str__(self):\n",
    "        return \\\n",
    "    f\"Color: {self.color}, {self.ruedas} ruedas\"\n",
    "    \n",
    "class Carro(Vehiculo):\n",
    "    def __init__(self, color, ruedas, velocidad, cilindrada):\n",
    "        Vehiculo.__init__(self,color,ruedas)\n",
    "        self.velocidad = velocidad\n",
    "        self.cilindrada = cilindrada\n",
    "        \n",
    "    def __str__(self):return \\\n",
    "    Vehiculo.__str__(self) +\", {} km/h, {} cc\".format(self.velocidad, self.cilindrada)"
   ]
  },
  {
   "cell_type": "code",
   "execution_count": 66,
   "id": "2dfb2ad1",
   "metadata": {},
   "outputs": [],
   "source": [
    "suran = Carro('Azul', 4,'160',1600)"
   ]
  },
  {
   "cell_type": "code",
   "execution_count": 53,
   "id": "6164ec2f",
   "metadata": {},
   "outputs": [
    {
     "name": "stdout",
     "output_type": "stream",
     "text": [
      "Color: Azul, 4 ruedas, 160 km/h, 1600 cc\n"
     ]
    }
   ],
   "source": [
    "print(suran)"
   ]
  },
  {
   "cell_type": "markdown",
   "id": "7a91b672",
   "metadata": {},
   "source": [
    "### 2) Extienda las subclases siguiendo el siguiente esquema:\n",
    "\n",
    "camioneta >> carro >> vehiculo\n",
    "carga(kg) >> (cc) (kmh) >> color y ruedas\n",
    "\n",
    "motocicleta >> bicicleta >> vehiculo\n",
    "kmh cc >> tipo(urbana deportiva) >> color ruedas\n",
    "\n",
    "TIP: UTILIZAR LA FUNCION super()\n",
    "\n",
    "* Crea al menos un objeto de cada subclase y añadelos a una lista llamada Vehiculos\n",
    "* Define una funcion llamada catalogar() que reciba un argumento optativo ruedas. La idea es que muestre unicamente los vehiculos cuyo numero de ruedas coincida con el valor del argumento. Debe mostrar el siguiente mensaje solo si envia el arugmento ruedas:\n",
    "\n",
    "        Se han encontrado {} vehiculos con {} ruedas"
   ]
  },
  {
   "cell_type": "code",
   "execution_count": 54,
   "id": "3bbdaaaf",
   "metadata": {},
   "outputs": [],
   "source": [
    "class Vehiculo:\n",
    "    def __init__(self, color, ruedas):\n",
    "        self.color = color\n",
    "        self.ruedas = ruedas\n",
    "        \n",
    "    def __str__(self):\n",
    "        return \\\n",
    "    f\"Color: {self.color}, {self.ruedas} ruedas\"\n",
    "    \n",
    "class Carro(Vehiculo):\n",
    "    def __init__(self, color, ruedas, velocidad, cilindrada):\n",
    "        Vehiculo.__init__(self,color,ruedas)\n",
    "        self.velocidad = velocidad\n",
    "        self.cilindrada = cilindrada\n",
    "        \n",
    "    def __str__(self):return \\\n",
    "    Vehiculo.__str__(self) +\", {} km/h, {} cc\".format(self.velocidad, self.cilindrada)\n",
    "    \n",
    "class Camioneta(Carro):\n",
    "    def __init__(self, color, ruedas, velocidad, cilindrada, carga):\n",
    "        Carro.__init__(self, color, ruedas, velocidad, cilindrada)\n",
    "        self.carga = carga\n",
    "        \n",
    "    def __str__(self):\n",
    "        return \\\n",
    "    Carro.__str__(self) + ', {} kg'.format(self.carga)\n",
    "    \n",
    "class Bicicleta(Vehiculo):\n",
    "    def __init__(self, color, ruedas, tipo):\n",
    "        Vehiculo.__init__(self,color,ruedas)\n",
    "        self.tipo = tipo\n",
    "    \n",
    "    def __str__(self):\n",
    "        return Vehiculo.__str__(self) + ', tipo {}'.format(self.tipo)\n",
    "    \n",
    "class Motocicleta(Bicicleta):\n",
    "    def __init__(self, color, ruedas, tipo, velocidad, cilindrada):\n",
    "        Bicicleta.__init__(self, color, ruedas, tipo)\n",
    "        self.velocidad = velocidad\n",
    "        self.cilindrada = cilindrada\n",
    "        \n",
    "    def __str__(self):\n",
    "        return Bicicleta.__str__(self) + ', {} km/h y {} cc'.format(self.velocidad, self.cilindrada)"
   ]
  },
  {
   "cell_type": "code",
   "execution_count": 67,
   "id": "328c0304",
   "metadata": {},
   "outputs": [],
   "source": [
    "yamaha = Motocicleta('Blanco', 2, 'urbana', '110','150')\n",
    "ranger = Camioneta('Plateado', 4, '150', '2900', 1000)"
   ]
  },
  {
   "cell_type": "code",
   "execution_count": 56,
   "id": "e0f2e596",
   "metadata": {},
   "outputs": [
    {
     "name": "stdout",
     "output_type": "stream",
     "text": [
      "Color: Blanco, 2 ruedas, tipo urbana, 110 km/h y 150 cc\n"
     ]
    }
   ],
   "source": [
    "print(yamaha)"
   ]
  },
  {
   "cell_type": "code",
   "execution_count": 57,
   "id": "6a863111",
   "metadata": {},
   "outputs": [
    {
     "name": "stdout",
     "output_type": "stream",
     "text": [
      "Color: Plateado, 4 ruedas, 150 km/h, 2900 cc, 1000 kg\n"
     ]
    }
   ],
   "source": [
    "print(ranger)"
   ]
  },
  {
   "cell_type": "code",
   "execution_count": 68,
   "id": "51306711",
   "metadata": {},
   "outputs": [],
   "source": [
    "monday = Bicicleta('Plateada', 2, 'deportiva')"
   ]
  },
  {
   "cell_type": "code",
   "execution_count": 69,
   "id": "a66bf9df",
   "metadata": {},
   "outputs": [],
   "source": [
    "vehiculos = [suran, ranger, monday, yamaha]"
   ]
  },
  {
   "cell_type": "code",
   "execution_count": 60,
   "id": "72c11a07",
   "metadata": {},
   "outputs": [],
   "source": [
    "def catalogar(lista, busqueda):\n",
    "    for argumento in lista:\n",
    "        if argumento.ruedas == busqueda:\n",
    "            print(argumento.__name__)"
   ]
  },
  {
   "cell_type": "code",
   "execution_count": 62,
   "id": "74292e2d",
   "metadata": {},
   "outputs": [
    {
     "name": "stdout",
     "output_type": "stream",
     "text": [
      "None\n"
     ]
    }
   ],
   "source": [
    "print(catalogar(vehiculos,2))"
   ]
  },
  {
   "cell_type": "code",
   "execution_count": 63,
   "id": "53c2fbda",
   "metadata": {},
   "outputs": [],
   "source": [
    "class Vehiculo:\n",
    "    \n",
    "    def __init__(self, color, ruedas):\n",
    "        self.color = color\n",
    "        self.ruedas = ruedas\n",
    "        \n",
    "    def __str__(self):\n",
    "        return \\\n",
    "    f\"Color: {self.color}, {self.ruedas} ruedas\"\n",
    "    \n",
    "class Carro(Vehiculo):\n",
    "    \n",
    "    def __init__(self, color, ruedas, velocidad, cilindrada):\n",
    "        super().__init__(color, ruedas)\n",
    "        self.velocidad = velocidad\n",
    "        self.cilindrada = cilindrada\n",
    "        \n",
    "    def __str__(self):\n",
    "        return \\\n",
    "    super().__str__() +\", {} km/h, {} cc\".format(self.velocidad, self.cilindrada)\n",
    "    \n",
    "class Camioneta(Carro):\n",
    "    def __init__(self, color, ruedas, velocidad, cilindrada, carga):\n",
    "        super().__init__(color, ruedas, velocidad, cilindrada)\n",
    "        self.carga = carga\n",
    "        \n",
    "    def __str__(self):\n",
    "        return \\\n",
    "    super().__str__() + ', {} kg de carga'.format(self.carga)\n",
    "    \n",
    "class Bicicleta(Vehiculo):\n",
    "    def __init__(self, color, ruedas, tipo):\n",
    "        super().__init__(color,ruedas)\n",
    "        self.tipo = tipo\n",
    "    \n",
    "    def __str__(self):\n",
    "        return super().__str__() + ', tipo {}'.format(self.tipo)\n",
    "    \n",
    "class Motocicleta(Bicicleta):\n",
    "    def __init__(self, color, ruedas, tipo, velocidad, cilindrada):\n",
    "        super().__init__(color, ruedas, tipo)\n",
    "        self.velocidad = velocidad\n",
    "        self.cilindrada = cilindrada\n",
    "        \n",
    "    def __str__(self):\n",
    "        return super().__str__() + ', {} km/h y {} cc'.format(self.velocidad, self.cilindrada)"
   ]
  },
  {
   "cell_type": "code",
   "execution_count": 64,
   "id": "c25c0c1c",
   "metadata": {},
   "outputs": [],
   "source": [
    "def catalogar(lista, busqueda = None):\n",
    "    \n",
    "    if busqueda != None:\n",
    "        contador = 0\n",
    "        for elemento in lista:\n",
    "            if elemento.ruedas == busqueda:\n",
    "                contador += 1\n",
    "        print('se han encontrado {} vehiculos con {} ruedas'.format(contador, busqueda))\n",
    "    \n",
    "    for elemento in lista:\n",
    "        if busqueda == None:\n",
    "            print(type(elemento).__name__, elemento)\n",
    "        else:\n",
    "            if elemento.ruedas == busqueda:\n",
    "                print(type(elemento).__name__, elemento)"
   ]
  },
  {
   "cell_type": "code",
   "execution_count": 70,
   "id": "8935297a",
   "metadata": {},
   "outputs": [
    {
     "name": "stdout",
     "output_type": "stream",
     "text": [
      "Carro Color: Azul, 4 ruedas, 160 km/h, 1600 cc\n",
      "Camioneta Color: Plateado, 4 ruedas, 150 km/h, 2900 cc, 1000 kg de carga\n",
      "Bicicleta Color: Plateada, 2 ruedas, tipo deportiva\n",
      "Motocicleta Color: Blanco, 2 ruedas, tipo urbana, 110 km/h y 150 cc\n"
     ]
    }
   ],
   "source": [
    "catalogar(vehiculos)"
   ]
  },
  {
   "cell_type": "code",
   "execution_count": 71,
   "id": "3e0747fc",
   "metadata": {},
   "outputs": [
    {
     "name": "stdout",
     "output_type": "stream",
     "text": [
      "se han encontrado 0 vehiculos con 0 ruedas\n"
     ]
    }
   ],
   "source": [
    "catalogar(vehiculos,0)"
   ]
  },
  {
   "cell_type": "code",
   "execution_count": 72,
   "id": "f0239a91",
   "metadata": {},
   "outputs": [
    {
     "name": "stdout",
     "output_type": "stream",
     "text": [
      "se han encontrado 2 vehiculos con 2 ruedas\n",
      "Bicicleta Color: Plateada, 2 ruedas, tipo deportiva\n",
      "Motocicleta Color: Blanco, 2 ruedas, tipo urbana, 110 km/h y 150 cc\n"
     ]
    }
   ],
   "source": [
    "catalogar(vehiculos,2)"
   ]
  },
  {
   "cell_type": "code",
   "execution_count": 73,
   "id": "5fb9c231",
   "metadata": {},
   "outputs": [
    {
     "name": "stdout",
     "output_type": "stream",
     "text": [
      "se han encontrado 2 vehiculos con 4 ruedas\n",
      "Carro Color: Azul, 4 ruedas, 160 km/h, 1600 cc\n",
      "Camioneta Color: Plateado, 4 ruedas, 150 km/h, 2900 cc, 1000 kg de carga\n"
     ]
    }
   ],
   "source": [
    "catalogar(vehiculos, 4)"
   ]
  },
  {
   "cell_type": "code",
   "execution_count": null,
   "id": "6ce97276",
   "metadata": {},
   "outputs": [],
   "source": []
  }
 ],
 "metadata": {
  "celltoolbar": "Raw Cell Format",
  "kernelspec": {
   "display_name": "Python 3",
   "language": "python",
   "name": "python3"
  },
  "language_info": {
   "codemirror_mode": {
    "name": "ipython",
    "version": 3
   },
   "file_extension": ".py",
   "mimetype": "text/x-python",
   "name": "python",
   "nbconvert_exporter": "python",
   "pygments_lexer": "ipython3",
   "version": "3.8.8"
  }
 },
 "nbformat": 4,
 "nbformat_minor": 5
}
